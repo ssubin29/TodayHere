{
 "cells": [
  {
   "cell_type": "markdown",
   "id": "efb67451",
   "metadata": {},
   "source": [
    "# 기상청 날씨누리 홈페이지 크롤링"
   ]
  },
  {
   "cell_type": "code",
   "execution_count": 161,
   "id": "eab3e215",
   "metadata": {},
   "outputs": [
    {
     "name": "stderr",
     "output_type": "stream",
     "text": [
      "<ipython-input-161-603494ea5738>:14: DeprecationWarning: use options instead of chrome_options\n",
      "  driver = webdriver.Chrome(chromedriver, chrome_options=options)\n"
     ]
    }
   ],
   "source": [
    "from selenium import webdriver \n",
    "from selenium.webdriver.common.keys import Keys \n",
    "from selenium.webdriver.support.ui import Select\n",
    "from selenium.webdriver import ActionChains\n",
    "import time\n",
    "\n",
    "chromedriver ='C:/dev_python/Webdriver/chromedriver.exe'\n",
    "options = webdriver.ChromeOptions()\n",
    "#options.add_argument('headless')\n",
    "options.add_argument('start-maximized')\n",
    "options.add_argument('disable-infobars')\n",
    "options.add_experimental_option(\"useAutomationExtension\", False)\n",
    "options.add_experimental_option(\"excludeSwitches\",[\"enable-automation\"])\n",
    "driver = webdriver.Chrome(chromedriver, chrome_options=options)"
   ]
  },
  {
   "cell_type": "code",
   "execution_count": 162,
   "id": "652f3072",
   "metadata": {},
   "outputs": [],
   "source": [
    "#url 가져오기\n",
    "driver.get('https://www.weather.go.kr/w/obs-climate/land/past-obs/obs-by-element.do')\n",
    "\n",
    "#콤보박스\n",
    "#select_stn=Select(driver.find_element_by_id(\"select-stn\")) #지점\n",
    "#지점은 총 107곳 존재함\n",
    "stn_count=107\n",
    "select_yy=Select(driver.find_element_by_id(\"select-yy\")) #년도\n",
    "select_obs=Select(driver.find_element_by_id(\"select-obs\")) #요소"
   ]
  },
  {
   "cell_type": "code",
   "execution_count": 229,
   "id": "9219e991",
   "metadata": {},
   "outputs": [
    {
     "name": "stdout",
     "output_type": "stream",
     "text": [
      "['서울', '백령도', '동두천', '파주', '', '인천', '수원', '강화', '양평', '이천', '', '북춘천', '철원', '춘천', '원주', '영월', '인제', '홍천', '', '북강릉', '울릉도', '강릉', '속초', '대관령', '동해', '태백', '정선군', '', '청주', '충주', '추풍령', '제천', '보은', '', '홍성', '대전', '서산', '천안', '보령', '부여', '금산', '', '전주', '군산', '부안', '임실', '정읍', '남원', '장수', '순창', '', '고창', '', '광주', '목포', '흑산도', '여수', '완도', '진도(첨찰산)', '진도군', '영광', '', '순천', '장흥', '해남', '고흥', '강진군', '보성군', '광양', '', '안동', '포항', '', '대구', '울진', '상주', '봉화', '영주', '문경', '영덕', '의성', '구미', '영천', '청송군', '경주', '', '부산', '울산', '창원', '북창원', '통영', '진주', '거창', '합천', '밀양', '산청', '거제', '남해', '김해시', '양산', '의령군', '함양군', '', '제주', '고산', '서귀포', '성산']\n",
      "순창\n",
      "['서울', '', '동두천', '파주', '', '인천', '수원', '강화', '양평', '이천', '', '북춘천', '철원', '춘천', '원주', '영월', '인제', '홍천', '', '', '울릉도', '강릉', '속초', '대관령', '동해', '태백', '정선군', '', '청주', '충주', '추풍령', '제천', '', '', '', '대전', '서산', '천안', '보령', '부여', '금산', '', '전주', '군산', '부안', '임실', '정읍', '남원', '장수', '순창', '', '고창', '', '광주', '목포', '흑산도', '여수', '완도', '진도(첨찰산)', '진도군', '영광', '', '순천', '장흥', '해남', '고흥', '강진군', '보성군', '광양', '', '안동', '포항', '', '대구', '울진', '상주', '', '영주', '문경', '영덕', '의성', '구미', '영천', '청송군', '경주', '', '부산', '울산', '창원', '', '통영', '진주', '거창', '합천', '밀양', '산청', '거제', '남해', '김해시', '양산', '의령군', '함양군', '', '제주', '고산', '서귀포', '']\n"
     ]
    }
   ],
   "source": [
    "#stn_list 지역 리스트 중복 제거 및 기타 처리\n",
    "select= driver.find_element_by_css_selector('#select-stn')\n",
    "text=select.text\n",
    "\n",
    "import re\n",
    "text= text.replace(\"(유)\",\" \")\n",
    "text= text.replace(\"(무)\",\" \")\n",
    "text= text.replace(\"(구)\",\" \")\n",
    "\n",
    "stn_list=text.split('\\n')\n",
    "for i in range(len(stn_list)):\n",
    "    try:\n",
    "        if((stn_list[i]=='--------') or (stn_list[i]==stn_list[i+1])):\n",
    "            stn_list[i]=''\n",
    "        stn_list[i]=stn_list[i].strip()\n",
    "    except:\n",
    "        stn_list[i]=stn_list[i].strip()\n",
    "        break\n",
    "\n",
    "print(stn_list)\n",
    "\n",
    "for del_index in [1,19,32,33,34,44,46,48,49,76,89,106]:\n",
    "    stn_list[del_index]=''\n",
    "print(stn_list[49])\n",
    "\n",
    "print(stn_list)\n"
   ]
  },
  {
   "cell_type": "code",
   "execution_count": 178,
   "id": "050215f6",
   "metadata": {},
   "outputs": [],
   "source": [
    "#선택버튼 클릭\n",
    "def selectbtnClick():\n",
    "    select= driver.find_element_by_css_selector('#default-form > div > div:nth-child(3) > input[type=submit]')\n",
    "    print(select.text)\n",
    "    btnClick = ActionChains(driver).move_to_element(select).click()\n",
    "    btnClick.perform()"
   ]
  },
  {
   "cell_type": "code",
   "execution_count": 164,
   "id": "5ff9cd73",
   "metadata": {},
   "outputs": [
    {
     "name": "stdout",
     "output_type": "stream",
     "text": [
      "\n"
     ]
    }
   ],
   "source": [
    "#2020-01-01 ~ 2020-12-29 평균기온 크롤링\n",
    "select_yy.select_by_index(1)\n",
    "for stn in range(1):\n",
    "    select_stn=Select(driver.find_element_by_id(\"select-stn\"))\n",
    "    select_stn.select_by_index(stn)\n",
    "    selectbtnClick()\n",
    "    table = driver.find_element_by_id('weather_table')\n",
    "    #print(stn,table.text)\n",
    "    time.sleep(5)\n",
    "\n",
    "#2021-01-01 ~ 2020-7-31 평균기온 크롤링"
   ]
  },
  {
   "cell_type": "code",
   "execution_count": 165,
   "id": "170bb0d4",
   "metadata": {},
   "outputs": [
    {
     "name": "stdout",
     "output_type": "stream",
     "text": [
      "[['-2.2', '2.6', '5.8', '11.3', '20.2', '19.7', '21.1', '25.3', '26.6', '18.8', '13.7', '1.1'], ['1.0', '1.5', '3.4', '9.3', '20.3', '17.9', '24.2', '24.9', '24.3', '19.2', '10.8', '2.4'], ['-0.1', '-0.4', '4.8', '10.0', '21.8', '22.0', '25.5', '25.0', '22.7', '19.9', '5.1', '0.7'], ['1.2', '-1.6', '2.2', '8.9', '20.2', '21.9', '24.2', '27.0', '23.3', '16.6', '4.9', '-0.6'], ['1.3', '-8.3', '1.4', '7.2', '16.0', '23.0', '23.8', '26.5', '23.3', '13.3', '9.6', '2.1'], ['3.1', '-6.4', '3.7', '9.3', '19.4', '24.6', '25.6', '24.1', '21.7', '14.2', '13.5', '4.5'], ['6.3', '-1.7', '7.0', '10.6', '20.7', '22.7', '24.1', '24.3', '19.2', '16.0', '14.6', '3.4'], ['2.4', '-0.1', '9.3', '9.4', '19.9', '25.0', '25.5', '24.2', '23.4', '17.2', '8.5', '-0.5'], ['-1.2', '-0.5', '11.1', '8.9', '14.2', '26.7', '27.5', '24.9', '21.1', '17.2', '5.5', '1.5'], ['-0.6', '4.0', '6.4', '10.7', '14.4', '25.8', '24.5', '26.5', '22.8', '16.9', '7.7', '5.8'], ['-0.1', '6.8', '3.8', '9.9', '16.5', '26.1', '25.8', '24.6', '22.4', '16.9', '9.3', '5.3'], ['-1.0', '7.4', '6.8', '9.9', '14.3', '24.7', '23.5', '27.2', '20.2', '16.2', '10.4', '2.3'], ['-2.9', '6.5', '4.9', '12.4', '16.1', '26.9', '18.7', '28.0', '21.5', '13.6', '12.2', '-1.1'], ['-2.3', '8.1', '3.6', '13.0', '19.3', '24.0', '20.3', '27.1', '21.3', '12.8', '12.5', '-7.7'], ['-2.7', '9.8', '4.0', '13.2', '16.1', '23.0', '23.4', '26.1', '23.0', '11.7', '11.1', '-8.3'], ['-1.7', '-1.4', '3.6', '16.0', '16.7', '24.4', '25.0', '27.4', '22.5', '11.8', '12.4', '-8.3'], ['-0.6', '-5.9', '6.6', '12.5', '19.1', '24.3', '26.0', '28.2', '21.3', '13.1', '15.9', '-4.9'], ['0.3', '-4.1', '10.0', '13.5', '19.1', '23.4', '26.1', '27.5', '21.5', '13.6', '16.6', '-2.1'], ['1.9', '1.0', '9.1', '12.3', '13.0', '24.7', '24.0', '27.1', '21.2', '15.1', '13.6', '-5.1'], ['0.7', '4.6', '8.8', '10.0', '14.4', '24.9', '23.8', '27.7', '19.7', '15.2', '2.8', '-3.7'], ['-0.4', '6.7', '12.8', '7.4', '17.4', '26.1', '25.0', '26.6', '19.1', '14.1', '6.5', '-1.0'], ['3.0', '4.0', '11.0', '6.0', '18.5', '28.6', '23.7', '24.3', '20.2', '13.5', '5.6', '2.0'], ['4.6', '2.5', '10.6', '7.9', '20.1', '27.3', '21.1', '25.3', '19.2', '8.6', '1.7', '4.5'], ['2.8', '7.0', '11.4', '9.9', '17.1', '22.3', '22.5', '27.8', '20.6', '8.7', '2.9', '2.6'], ['4.3', '6.7', '12.5', '13.1', '16.6', '21.6', '24.3', '29.9', '20.1', '11.8', '4.6', '-0.8'], ['5.5', '6.4', '14.8', '12.3', '16.2', '21.8', '25.4', '30.2', '19.3', '12.9', '5.6', '2.2'], ['5.9', '6.1', '11.9', '12.9', '17.4', '24.1', '24.3', '27.1', '20.4', '14.0', '4.1', '5.8'], ['6.8', '4.5', '7.7', '13.9', '18.7', '25.2', '24.4', '27.3', '20.7', '13.8', '-0.1', '6.7'], ['6.0', '7.7', '8.7', '14.9', '20.7', '23.8', '23.7', '26.8', '19.6', '10.8', '-0.6', '0.1'], ['5.2', '', '10.2', '17.1', '22.6', '20.1', '25.3', '26.8', '19.6', '11.9', '-0.2', '-10.9'], ['3.9', '', '11.9', '', '21.2', '', '26.2', '26.4', '', '13.6', '', '-8.9']]\n"
     ]
    }
   ],
   "source": [
    "import numpy as np\n",
    "text=table.text\n",
    "text_list=text.split('\\n')\n",
    "text_list=text_list[13:-1]\n",
    "for i in range(len(text_list)):\n",
    "    text_list[i]=text_list[i].split(' ')[1:]\n",
    "for i in range(len(text_list)):\n",
    "    #print(len(text_list[i]))\n",
    "    if(len(text_list[i])!=12):\n",
    "        replacelist=[]\n",
    "        for j in range(len(text_list[i])):\n",
    "            if(text_list[i][j]=='' and text_list[i][j+1]==''):  \n",
    "                continue    \n",
    "            replacelist.append(text_list[i][j])\n",
    "        text_list[i]=replacelist\n",
    "print(text_list)\n",
    "            "
   ]
  },
  {
   "cell_type": "code",
   "execution_count": 166,
   "id": "a904e6cb",
   "metadata": {},
   "outputs": [
    {
     "name": "stdout",
     "output_type": "stream",
     "text": [
      "      0     1     2     3     4     5     6     7     8     9     10     11\n",
      "0   -2.2   2.6   5.8  11.3  20.2  19.7  21.1  25.3  26.6  18.8  13.7    1.1\n",
      "1    1.0   1.5   3.4   9.3  20.3  17.9  24.2  24.9  24.3  19.2  10.8    2.4\n",
      "2   -0.1  -0.4   4.8  10.0  21.8  22.0  25.5  25.0  22.7  19.9   5.1    0.7\n",
      "3    1.2  -1.6   2.2   8.9  20.2  21.9  24.2  27.0  23.3  16.6   4.9   -0.6\n",
      "4    1.3  -8.3   1.4   7.2  16.0  23.0  23.8  26.5  23.3  13.3   9.6    2.1\n",
      "5    3.1  -6.4   3.7   9.3  19.4  24.6  25.6  24.1  21.7  14.2  13.5    4.5\n",
      "6    6.3  -1.7   7.0  10.6  20.7  22.7  24.1  24.3  19.2  16.0  14.6    3.4\n",
      "7    2.4  -0.1   9.3   9.4  19.9  25.0  25.5  24.2  23.4  17.2   8.5   -0.5\n",
      "8   -1.2  -0.5  11.1   8.9  14.2  26.7  27.5  24.9  21.1  17.2   5.5    1.5\n",
      "9   -0.6   4.0   6.4  10.7  14.4  25.8  24.5  26.5  22.8  16.9   7.7    5.8\n",
      "10  -0.1   6.8   3.8   9.9  16.5  26.1  25.8  24.6  22.4  16.9   9.3    5.3\n",
      "11  -1.0   7.4   6.8   9.9  14.3  24.7  23.5  27.2  20.2  16.2  10.4    2.3\n",
      "12  -2.9   6.5   4.9  12.4  16.1  26.9  18.7  28.0  21.5  13.6  12.2   -1.1\n",
      "13  -2.3   8.1   3.6  13.0  19.3  24.0  20.3  27.1  21.3  12.8  12.5   -7.7\n",
      "14  -2.7   9.8   4.0  13.2  16.1  23.0  23.4  26.1  23.0  11.7  11.1   -8.3\n",
      "15  -1.7  -1.4   3.6  16.0  16.7  24.4  25.0  27.4  22.5  11.8  12.4   -8.3\n",
      "16  -0.6  -5.9   6.6  12.5  19.1  24.3  26.0  28.2  21.3  13.1  15.9   -4.9\n",
      "17   0.3  -4.1  10.0  13.5  19.1  23.4  26.1  27.5  21.5  13.6  16.6   -2.1\n",
      "18   1.9   1.0   9.1  12.3  13.0  24.7  24.0  27.1  21.2  15.1  13.6   -5.1\n",
      "19   0.7   4.6   8.8  10.0  14.4  24.9  23.8  27.7  19.7  15.2   2.8   -3.7\n",
      "20  -0.4   6.7  12.8   7.4  17.4  26.1  25.0  26.6  19.1  14.1   6.5   -1.0\n",
      "21   3.0   4.0  11.0   6.0  18.5  28.6  23.7  24.3  20.2  13.5   5.6    2.0\n",
      "22   4.6   2.5  10.6   7.9  20.1  27.3  21.1  25.3  19.2   8.6   1.7    4.5\n",
      "23   2.8   7.0  11.4   9.9  17.1  22.3  22.5  27.8  20.6   8.7   2.9    2.6\n",
      "24   4.3   6.7  12.5  13.1  16.6  21.6  24.3  29.9  20.1  11.8   4.6   -0.8\n",
      "25   5.5   6.4  14.8  12.3  16.2  21.8  25.4  30.2  19.3  12.9   5.6    2.2\n",
      "26   5.9   6.1  11.9  12.9  17.4  24.1  24.3  27.1  20.4  14.0   4.1    5.8\n",
      "27   6.8   4.5   7.7  13.9  18.7  25.2  24.4  27.3  20.7  13.8  -0.1    6.7\n",
      "28   6.0   7.7   8.7  14.9  20.7  23.8  23.7  26.8  19.6  10.8  -0.6    0.1\n",
      "29   5.2        10.2  17.1  22.6  20.1  25.3  26.8  19.6  11.9  -0.2  -10.9\n",
      "30   3.9        11.9        21.2        26.2  26.4        13.6         -8.9\n"
     ]
    }
   ],
   "source": [
    "import pandas as pd\n",
    "print(pd.DataFrame(text_list))"
   ]
  },
  {
   "cell_type": "code",
   "execution_count": 76,
   "id": "c3f214f6",
   "metadata": {},
   "outputs": [
    {
     "ename": "StaleElementReferenceException",
     "evalue": "Message: stale element reference: element is not attached to the page document\n  (Session info: chrome=92.0.4515.131)\n",
     "output_type": "error",
     "traceback": [
      "\u001b[1;31m---------------------------------------------------------------------------\u001b[0m",
      "\u001b[1;31mStaleElementReferenceException\u001b[0m            Traceback (most recent call last)",
      "\u001b[1;32m<ipython-input-76-b3db85e86f62>\u001b[0m in \u001b[0;36m<module>\u001b[1;34m\u001b[0m\n\u001b[0;32m      1\u001b[0m \u001b[1;31m#2020-01-01 ~ 2020-12-29 강수량 크롤링\u001b[0m\u001b[1;33m\u001b[0m\u001b[1;33m\u001b[0m\u001b[1;33m\u001b[0m\u001b[0m\n\u001b[1;32m----> 2\u001b[1;33m \u001b[0mselect_yy\u001b[0m\u001b[1;33m.\u001b[0m\u001b[0mselect_by_index\u001b[0m\u001b[1;33m(\u001b[0m\u001b[1;36m1\u001b[0m\u001b[1;33m)\u001b[0m\u001b[1;33m\u001b[0m\u001b[1;33m\u001b[0m\u001b[0m\n\u001b[0m\u001b[0;32m      3\u001b[0m \u001b[1;32mfor\u001b[0m \u001b[0mstn\u001b[0m \u001b[1;32min\u001b[0m \u001b[0mrange\u001b[0m\u001b[1;33m(\u001b[0m\u001b[0mstn_count\u001b[0m\u001b[1;33m)\u001b[0m\u001b[1;33m:\u001b[0m\u001b[1;33m\u001b[0m\u001b[1;33m\u001b[0m\u001b[0m\n\u001b[0;32m      4\u001b[0m     \u001b[0mselect_stn\u001b[0m\u001b[1;33m=\u001b[0m\u001b[0mSelect\u001b[0m\u001b[1;33m(\u001b[0m\u001b[0mdriver\u001b[0m\u001b[1;33m.\u001b[0m\u001b[0mfind_element_by_id\u001b[0m\u001b[1;33m(\u001b[0m\u001b[1;34m\"select-stn\"\u001b[0m\u001b[1;33m)\u001b[0m\u001b[1;33m)\u001b[0m\u001b[1;33m\u001b[0m\u001b[1;33m\u001b[0m\u001b[0m\n\u001b[0;32m      5\u001b[0m     \u001b[0mselect_stn\u001b[0m\u001b[1;33m.\u001b[0m\u001b[0mselect_by_index\u001b[0m\u001b[1;33m(\u001b[0m\u001b[0mstn\u001b[0m\u001b[1;33m)\u001b[0m\u001b[1;33m\u001b[0m\u001b[1;33m\u001b[0m\u001b[0m\n",
      "\u001b[1;32m~\\anaconda3\\lib\\site-packages\\selenium\\webdriver\\support\\select.py\u001b[0m in \u001b[0;36mselect_by_index\u001b[1;34m(self, index)\u001b[0m\n\u001b[0;32m     97\u001b[0m            \"\"\"\n\u001b[0;32m     98\u001b[0m         \u001b[0mmatch\u001b[0m \u001b[1;33m=\u001b[0m \u001b[0mstr\u001b[0m\u001b[1;33m(\u001b[0m\u001b[0mindex\u001b[0m\u001b[1;33m)\u001b[0m\u001b[1;33m\u001b[0m\u001b[1;33m\u001b[0m\u001b[0m\n\u001b[1;32m---> 99\u001b[1;33m         \u001b[1;32mfor\u001b[0m \u001b[0mopt\u001b[0m \u001b[1;32min\u001b[0m \u001b[0mself\u001b[0m\u001b[1;33m.\u001b[0m\u001b[0moptions\u001b[0m\u001b[1;33m:\u001b[0m\u001b[1;33m\u001b[0m\u001b[1;33m\u001b[0m\u001b[0m\n\u001b[0m\u001b[0;32m    100\u001b[0m             \u001b[1;32mif\u001b[0m \u001b[0mopt\u001b[0m\u001b[1;33m.\u001b[0m\u001b[0mget_attribute\u001b[0m\u001b[1;33m(\u001b[0m\u001b[1;34m\"index\"\u001b[0m\u001b[1;33m)\u001b[0m \u001b[1;33m==\u001b[0m \u001b[0mmatch\u001b[0m\u001b[1;33m:\u001b[0m\u001b[1;33m\u001b[0m\u001b[1;33m\u001b[0m\u001b[0m\n\u001b[0;32m    101\u001b[0m                 \u001b[0mself\u001b[0m\u001b[1;33m.\u001b[0m\u001b[0m_setSelected\u001b[0m\u001b[1;33m(\u001b[0m\u001b[0mopt\u001b[0m\u001b[1;33m)\u001b[0m\u001b[1;33m\u001b[0m\u001b[1;33m\u001b[0m\u001b[0m\n",
      "\u001b[1;32m~\\anaconda3\\lib\\site-packages\\selenium\\webdriver\\support\\select.py\u001b[0m in \u001b[0;36moptions\u001b[1;34m(self)\u001b[0m\n\u001b[0;32m     45\u001b[0m     \u001b[1;32mdef\u001b[0m \u001b[0moptions\u001b[0m\u001b[1;33m(\u001b[0m\u001b[0mself\u001b[0m\u001b[1;33m)\u001b[0m\u001b[1;33m:\u001b[0m\u001b[1;33m\u001b[0m\u001b[1;33m\u001b[0m\u001b[0m\n\u001b[0;32m     46\u001b[0m         \u001b[1;34m\"\"\"Returns a list of all options belonging to this select tag\"\"\"\u001b[0m\u001b[1;33m\u001b[0m\u001b[1;33m\u001b[0m\u001b[0m\n\u001b[1;32m---> 47\u001b[1;33m         \u001b[1;32mreturn\u001b[0m \u001b[0mself\u001b[0m\u001b[1;33m.\u001b[0m\u001b[0m_el\u001b[0m\u001b[1;33m.\u001b[0m\u001b[0mfind_elements\u001b[0m\u001b[1;33m(\u001b[0m\u001b[0mBy\u001b[0m\u001b[1;33m.\u001b[0m\u001b[0mTAG_NAME\u001b[0m\u001b[1;33m,\u001b[0m \u001b[1;34m'option'\u001b[0m\u001b[1;33m)\u001b[0m\u001b[1;33m\u001b[0m\u001b[1;33m\u001b[0m\u001b[0m\n\u001b[0m\u001b[0;32m     48\u001b[0m \u001b[1;33m\u001b[0m\u001b[0m\n\u001b[0;32m     49\u001b[0m     \u001b[1;33m@\u001b[0m\u001b[0mproperty\u001b[0m\u001b[1;33m\u001b[0m\u001b[1;33m\u001b[0m\u001b[0m\n",
      "\u001b[1;32m~\\anaconda3\\lib\\site-packages\\selenium\\webdriver\\remote\\webelement.py\u001b[0m in \u001b[0;36mfind_elements\u001b[1;34m(self, by, value)\u001b[0m\n\u001b[0;32m    682\u001b[0m                 \u001b[0mvalue\u001b[0m \u001b[1;33m=\u001b[0m \u001b[1;34m'[name=\"%s\"]'\u001b[0m \u001b[1;33m%\u001b[0m \u001b[0mvalue\u001b[0m\u001b[1;33m\u001b[0m\u001b[1;33m\u001b[0m\u001b[0m\n\u001b[0;32m    683\u001b[0m \u001b[1;33m\u001b[0m\u001b[0m\n\u001b[1;32m--> 684\u001b[1;33m         return self._execute(Command.FIND_CHILD_ELEMENTS,\n\u001b[0m\u001b[0;32m    685\u001b[0m                              {\"using\": by, \"value\": value})['value']\n\u001b[0;32m    686\u001b[0m \u001b[1;33m\u001b[0m\u001b[0m\n",
      "\u001b[1;32m~\\anaconda3\\lib\\site-packages\\selenium\\webdriver\\remote\\webelement.py\u001b[0m in \u001b[0;36m_execute\u001b[1;34m(self, command, params)\u001b[0m\n\u001b[0;32m    631\u001b[0m             \u001b[0mparams\u001b[0m \u001b[1;33m=\u001b[0m \u001b[1;33m{\u001b[0m\u001b[1;33m}\u001b[0m\u001b[1;33m\u001b[0m\u001b[1;33m\u001b[0m\u001b[0m\n\u001b[0;32m    632\u001b[0m         \u001b[0mparams\u001b[0m\u001b[1;33m[\u001b[0m\u001b[1;34m'id'\u001b[0m\u001b[1;33m]\u001b[0m \u001b[1;33m=\u001b[0m \u001b[0mself\u001b[0m\u001b[1;33m.\u001b[0m\u001b[0m_id\u001b[0m\u001b[1;33m\u001b[0m\u001b[1;33m\u001b[0m\u001b[0m\n\u001b[1;32m--> 633\u001b[1;33m         \u001b[1;32mreturn\u001b[0m \u001b[0mself\u001b[0m\u001b[1;33m.\u001b[0m\u001b[0m_parent\u001b[0m\u001b[1;33m.\u001b[0m\u001b[0mexecute\u001b[0m\u001b[1;33m(\u001b[0m\u001b[0mcommand\u001b[0m\u001b[1;33m,\u001b[0m \u001b[0mparams\u001b[0m\u001b[1;33m)\u001b[0m\u001b[1;33m\u001b[0m\u001b[1;33m\u001b[0m\u001b[0m\n\u001b[0m\u001b[0;32m    634\u001b[0m \u001b[1;33m\u001b[0m\u001b[0m\n\u001b[0;32m    635\u001b[0m     \u001b[1;32mdef\u001b[0m \u001b[0mfind_element\u001b[0m\u001b[1;33m(\u001b[0m\u001b[0mself\u001b[0m\u001b[1;33m,\u001b[0m \u001b[0mby\u001b[0m\u001b[1;33m=\u001b[0m\u001b[0mBy\u001b[0m\u001b[1;33m.\u001b[0m\u001b[0mID\u001b[0m\u001b[1;33m,\u001b[0m \u001b[0mvalue\u001b[0m\u001b[1;33m=\u001b[0m\u001b[1;32mNone\u001b[0m\u001b[1;33m)\u001b[0m\u001b[1;33m:\u001b[0m\u001b[1;33m\u001b[0m\u001b[1;33m\u001b[0m\u001b[0m\n",
      "\u001b[1;32m~\\anaconda3\\lib\\site-packages\\selenium\\webdriver\\remote\\webdriver.py\u001b[0m in \u001b[0;36mexecute\u001b[1;34m(self, driver_command, params)\u001b[0m\n\u001b[0;32m    319\u001b[0m         \u001b[0mresponse\u001b[0m \u001b[1;33m=\u001b[0m \u001b[0mself\u001b[0m\u001b[1;33m.\u001b[0m\u001b[0mcommand_executor\u001b[0m\u001b[1;33m.\u001b[0m\u001b[0mexecute\u001b[0m\u001b[1;33m(\u001b[0m\u001b[0mdriver_command\u001b[0m\u001b[1;33m,\u001b[0m \u001b[0mparams\u001b[0m\u001b[1;33m)\u001b[0m\u001b[1;33m\u001b[0m\u001b[1;33m\u001b[0m\u001b[0m\n\u001b[0;32m    320\u001b[0m         \u001b[1;32mif\u001b[0m \u001b[0mresponse\u001b[0m\u001b[1;33m:\u001b[0m\u001b[1;33m\u001b[0m\u001b[1;33m\u001b[0m\u001b[0m\n\u001b[1;32m--> 321\u001b[1;33m             \u001b[0mself\u001b[0m\u001b[1;33m.\u001b[0m\u001b[0merror_handler\u001b[0m\u001b[1;33m.\u001b[0m\u001b[0mcheck_response\u001b[0m\u001b[1;33m(\u001b[0m\u001b[0mresponse\u001b[0m\u001b[1;33m)\u001b[0m\u001b[1;33m\u001b[0m\u001b[1;33m\u001b[0m\u001b[0m\n\u001b[0m\u001b[0;32m    322\u001b[0m             response['value'] = self._unwrap_value(\n\u001b[0;32m    323\u001b[0m                 response.get('value', None))\n",
      "\u001b[1;32m~\\anaconda3\\lib\\site-packages\\selenium\\webdriver\\remote\\errorhandler.py\u001b[0m in \u001b[0;36mcheck_response\u001b[1;34m(self, response)\u001b[0m\n\u001b[0;32m    240\u001b[0m                 \u001b[0malert_text\u001b[0m \u001b[1;33m=\u001b[0m \u001b[0mvalue\u001b[0m\u001b[1;33m[\u001b[0m\u001b[1;34m'alert'\u001b[0m\u001b[1;33m]\u001b[0m\u001b[1;33m.\u001b[0m\u001b[0mget\u001b[0m\u001b[1;33m(\u001b[0m\u001b[1;34m'text'\u001b[0m\u001b[1;33m)\u001b[0m\u001b[1;33m\u001b[0m\u001b[1;33m\u001b[0m\u001b[0m\n\u001b[0;32m    241\u001b[0m             \u001b[1;32mraise\u001b[0m \u001b[0mexception_class\u001b[0m\u001b[1;33m(\u001b[0m\u001b[0mmessage\u001b[0m\u001b[1;33m,\u001b[0m \u001b[0mscreen\u001b[0m\u001b[1;33m,\u001b[0m \u001b[0mstacktrace\u001b[0m\u001b[1;33m,\u001b[0m \u001b[0malert_text\u001b[0m\u001b[1;33m)\u001b[0m\u001b[1;33m\u001b[0m\u001b[1;33m\u001b[0m\u001b[0m\n\u001b[1;32m--> 242\u001b[1;33m         \u001b[1;32mraise\u001b[0m \u001b[0mexception_class\u001b[0m\u001b[1;33m(\u001b[0m\u001b[0mmessage\u001b[0m\u001b[1;33m,\u001b[0m \u001b[0mscreen\u001b[0m\u001b[1;33m,\u001b[0m \u001b[0mstacktrace\u001b[0m\u001b[1;33m)\u001b[0m\u001b[1;33m\u001b[0m\u001b[1;33m\u001b[0m\u001b[0m\n\u001b[0m\u001b[0;32m    243\u001b[0m \u001b[1;33m\u001b[0m\u001b[0m\n\u001b[0;32m    244\u001b[0m     \u001b[1;32mdef\u001b[0m \u001b[0m_value_or_default\u001b[0m\u001b[1;33m(\u001b[0m\u001b[0mself\u001b[0m\u001b[1;33m,\u001b[0m \u001b[0mobj\u001b[0m\u001b[1;33m,\u001b[0m \u001b[0mkey\u001b[0m\u001b[1;33m,\u001b[0m \u001b[0mdefault\u001b[0m\u001b[1;33m)\u001b[0m\u001b[1;33m:\u001b[0m\u001b[1;33m\u001b[0m\u001b[1;33m\u001b[0m\u001b[0m\n",
      "\u001b[1;31mStaleElementReferenceException\u001b[0m: Message: stale element reference: element is not attached to the page document\n  (Session info: chrome=92.0.4515.131)\n"
     ]
    }
   ],
   "source": [
    "#2020-01-01 ~ 2020-12-29 강수량 크롤링\n",
    "select_yy.select_by_index(1)\n",
    "for stn in range(stn_count):\n",
    "    select_stn=Select(driver.find_element_by_id(\"select-stn\"))\n",
    "    select_stn.select_by_index(stn)\n",
    "    selectbtnClick()\n",
    "    table = driver.find_element_by_id('weather_table')\n",
    "    print(stn,table.text)\n",
    "    time.sleep(5)\n",
    "\n",
    "#2021-01-01 ~ 2020-7-31 강수량 크롤링"
   ]
  },
  {
   "cell_type": "code",
   "execution_count": null,
   "id": "109fdce0",
   "metadata": {},
   "outputs": [],
   "source": [
    "print(element)"
   ]
  }
 ],
 "metadata": {
  "kernelspec": {
   "display_name": "Python 3",
   "language": "python",
   "name": "python3"
  },
  "language_info": {
   "codemirror_mode": {
    "name": "ipython",
    "version": 3
   },
   "file_extension": ".py",
   "mimetype": "text/x-python",
   "name": "python",
   "nbconvert_exporter": "python",
   "pygments_lexer": "ipython3",
   "version": "3.8.8"
  }
 },
 "nbformat": 4,
 "nbformat_minor": 5
}
