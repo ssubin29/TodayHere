{
 "cells": [
  {
   "cell_type": "code",
   "execution_count": 1,
   "id": "430855c0",
   "metadata": {},
   "outputs": [
    {
     "name": "stdout",
     "output_type": "stream",
     "text": [
      "Requirement already satisfied: pytrends in c:\\users\\user\\anaconda3\\lib\\site-packages (4.7.3)\n",
      "Requirement already satisfied: requests in c:\\users\\user\\anaconda3\\lib\\site-packages (from pytrends) (2.26.0)\n",
      "Requirement already satisfied: pandas>=0.25 in c:\\users\\user\\anaconda3\\lib\\site-packages (from pytrends) (1.2.4)\n",
      "Requirement already satisfied: lxml in c:\\users\\user\\anaconda3\\lib\\site-packages (from pytrends) (4.6.3)\n",
      "Requirement already satisfied: pytz>=2017.3 in c:\\users\\user\\anaconda3\\lib\\site-packages (from pandas>=0.25->pytrends) (2021.1)\n",
      "Requirement already satisfied: python-dateutil>=2.7.3 in c:\\users\\user\\anaconda3\\lib\\site-packages (from pandas>=0.25->pytrends) (2.8.1)\n",
      "Requirement already satisfied: numpy>=1.16.5 in c:\\users\\user\\anaconda3\\lib\\site-packages (from pandas>=0.25->pytrends) (1.20.0)\n",
      "Requirement already satisfied: six>=1.5 in c:\\users\\user\\anaconda3\\lib\\site-packages (from python-dateutil>=2.7.3->pandas>=0.25->pytrends) (1.15.0)\n",
      "Requirement already satisfied: idna<4,>=2.5 in c:\\users\\user\\anaconda3\\lib\\site-packages (from requests->pytrends) (2.6)\n",
      "Requirement already satisfied: certifi>=2017.4.17 in c:\\users\\user\\anaconda3\\lib\\site-packages (from requests->pytrends) (2020.12.5)\n",
      "Requirement already satisfied: charset-normalizer~=2.0.0 in c:\\users\\user\\anaconda3\\lib\\site-packages (from requests->pytrends) (2.0.3)\n",
      "Requirement already satisfied: urllib3<1.27,>=1.21.1 in c:\\users\\user\\anaconda3\\lib\\site-packages (from requests->pytrends) (1.26.6)\n"
     ]
    }
   ],
   "source": [
    "!pip install pytrends\n",
    "from pytrends.request import TrendReq\n",
    "import pandas as pd\n",
    "import csv"
   ]
  },
  {
   "cell_type": "code",
   "execution_count": 3,
   "id": "19f876ae",
   "metadata": {},
   "outputs": [
    {
     "name": "stdout",
     "output_type": "stream",
     "text": [
      "            에버랜드\n",
      "date            \n",
      "2020-07-05    34\n",
      "2020-07-12    36\n",
      "2020-07-19    38\n",
      "2020-07-26    44\n",
      "2020-08-02    43\n",
      "2020-08-09    43\n",
      "2020-08-16    31\n",
      "2020-08-23    19\n",
      "2020-08-30    21\n",
      "2020-09-06    34\n",
      "2020-09-13    46\n",
      "2020-09-20    59\n",
      "2020-09-27    70\n",
      "2020-10-04    42\n",
      "2020-10-11    50\n",
      "2020-10-18    49\n",
      "2020-10-25   100\n",
      "2020-11-01    48\n",
      "2020-11-08    38\n",
      "2020-11-15    37\n",
      "2020-11-22    29\n",
      "2020-11-29    25\n",
      "2020-12-06    28\n",
      "2020-12-13    18\n",
      "2020-12-20    39\n",
      "2020-12-27    34\n",
      "2021-01-03    22\n",
      "2021-01-10    28\n",
      "2021-01-17    34\n",
      "2021-01-24    38\n",
      "2021-01-31    29\n",
      "2021-02-07    37\n",
      "2021-02-14    28\n",
      "2021-02-21    40\n",
      "2021-02-28    49\n",
      "2021-03-07    43\n",
      "2021-03-14    38\n",
      "2021-03-21    28\n",
      "2021-03-28    46\n",
      "2021-04-04    68\n",
      "2021-04-11    66\n",
      "2021-04-18    51\n",
      "2021-04-25    64\n",
      "2021-05-02    75\n",
      "2021-05-09    56\n",
      "2021-05-16    69\n",
      "2021-05-23    74\n",
      "2021-05-30    71\n",
      "2021-06-06    58\n",
      "2021-06-13    51\n",
      "2021-06-20    76\n",
      "2021-06-27    58\n",
      "2021-07-04    41\n",
      "2021-07-11    34\n",
      "2021-07-18    28\n",
      "2021-07-25    25\n"
     ]
    }
   ],
   "source": [
    "pytrends = TrendReq(hl='ko', tz = 540)\n",
    "\n",
    "keywords=['에버랜드']\n",
    "\n",
    "pytrends.build_payload(keywords, cat=0,timeframe='2020-07-01 2021-07-31', geo='KR', gprop='')\n",
    "\n",
    "getdatainfo = pytrends.interest_over_time()\n",
    "\n",
    "\n",
    "del getdatainfo['isPartial']\n",
    "print(getdatainfo)\n",
    "#getdatainfo.to_csv('write.csv',encoding='utf-8')"
   ]
  },
  {
   "cell_type": "code",
   "execution_count": null,
   "id": "5ebb346f",
   "metadata": {},
   "outputs": [],
   "source": []
  }
 ],
 "metadata": {
  "kernelspec": {
   "display_name": "Python 3",
   "language": "python",
   "name": "python3"
  },
  "language_info": {
   "codemirror_mode": {
    "name": "ipython",
    "version": 3
   },
   "file_extension": ".py",
   "mimetype": "text/x-python",
   "name": "python",
   "nbconvert_exporter": "python",
   "pygments_lexer": "ipython3",
   "version": "3.8.8"
  }
 },
 "nbformat": 4,
 "nbformat_minor": 5
}
