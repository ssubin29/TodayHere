{
 "cells": [
  {
   "cell_type": "code",
   "execution_count": 4,
   "id": "bee7dc1f",
   "metadata": {},
   "outputs": [],
   "source": [
    "from sklearn import linear_model\n",
    "import numpy as np\n",
    "import pandas as pd\n",
    "import matplotlib\n",
    "import matplotlib.pyplot as plt\n",
    "%matplotlib inline\n",
    "matplotlib.style.use('ggplot')"
   ]
  },
  {
   "cell_type": "code",
   "execution_count": 7,
   "id": "30b44aac",
   "metadata": {},
   "outputs": [
    {
     "name": "stdout",
     "output_type": "stream",
     "text": [
      "Requirement already satisfied: pytrends in c:\\users\\user\\anaconda3\\lib\\site-packages (4.7.3)\n",
      "Requirement already satisfied: pandas>=0.25 in c:\\users\\user\\anaconda3\\lib\\site-packages (from pytrends) (1.2.4)\n",
      "Requirement already satisfied: lxml in c:\\users\\user\\anaconda3\\lib\\site-packages (from pytrends) (4.6.3)\n",
      "Requirement already satisfied: requests in c:\\users\\user\\anaconda3\\lib\\site-packages (from pytrends) (2.26.0)\n",
      "Requirement already satisfied: python-dateutil>=2.7.3 in c:\\users\\user\\anaconda3\\lib\\site-packages (from pandas>=0.25->pytrends) (2.8.1)\n",
      "Requirement already satisfied: pytz>=2017.3 in c:\\users\\user\\anaconda3\\lib\\site-packages (from pandas>=0.25->pytrends) (2021.1)\n",
      "Requirement already satisfied: numpy>=1.16.5 in c:\\users\\user\\anaconda3\\lib\\site-packages (from pandas>=0.25->pytrends) (1.20.0)\n",
      "Requirement already satisfied: six>=1.5 in c:\\users\\user\\anaconda3\\lib\\site-packages (from python-dateutil>=2.7.3->pandas>=0.25->pytrends) (1.15.0)\n",
      "Requirement already satisfied: idna<4,>=2.5 in c:\\users\\user\\anaconda3\\lib\\site-packages (from requests->pytrends) (2.6)\n",
      "Requirement already satisfied: urllib3<1.27,>=1.21.1 in c:\\users\\user\\anaconda3\\lib\\site-packages (from requests->pytrends) (1.26.6)\n",
      "Requirement already satisfied: charset-normalizer~=2.0.0 in c:\\users\\user\\anaconda3\\lib\\site-packages (from requests->pytrends) (2.0.3)\n",
      "Requirement already satisfied: certifi>=2017.4.17 in c:\\users\\user\\anaconda3\\lib\\site-packages (from requests->pytrends) (2020.12.5)\n"
     ]
    },
    {
     "data": {
      "text/html": [
       "<div>\n",
       "<style scoped>\n",
       "    .dataframe tbody tr th:only-of-type {\n",
       "        vertical-align: middle;\n",
       "    }\n",
       "\n",
       "    .dataframe tbody tr th {\n",
       "        vertical-align: top;\n",
       "    }\n",
       "\n",
       "    .dataframe thead th {\n",
       "        text-align: right;\n",
       "    }\n",
       "</style>\n",
       "<table border=\"1\" class=\"dataframe\">\n",
       "  <thead>\n",
       "    <tr style=\"text-align: right;\">\n",
       "      <th></th>\n",
       "      <th>date</th>\n",
       "      <th>korona</th>\n",
       "      <th>rain</th>\n",
       "      <th>temp</th>\n",
       "      <th>recommendation</th>\n",
       "    </tr>\n",
       "  </thead>\n",
       "  <tbody>\n",
       "    <tr>\n",
       "      <th>0</th>\n",
       "      <td>2020-07-01</td>\n",
       "      <td>1200</td>\n",
       "      <td>100</td>\n",
       "      <td>23</td>\n",
       "      <td>37</td>\n",
       "    </tr>\n",
       "    <tr>\n",
       "      <th>1</th>\n",
       "      <td>2020-07-02</td>\n",
       "      <td>1400</td>\n",
       "      <td>150</td>\n",
       "      <td>24</td>\n",
       "      <td>30</td>\n",
       "    </tr>\n",
       "    <tr>\n",
       "      <th>2</th>\n",
       "      <td>2020-07-03</td>\n",
       "      <td>1700</td>\n",
       "      <td>200</td>\n",
       "      <td>34</td>\n",
       "      <td>74</td>\n",
       "    </tr>\n",
       "  </tbody>\n",
       "</table>\n",
       "</div>"
      ],
      "text/plain": [
       "         date  korona  rain  temp  recommendation\n",
       "0  2020-07-01    1200   100    23              37\n",
       "1  2020-07-02    1400   150    24              30\n",
       "2  2020-07-03    1700   200    34              74"
      ]
     },
     "execution_count": 7,
     "metadata": {},
     "output_type": "execute_result"
    }
   ],
   "source": [
    "from sklearn import linear_model\n",
    "import pandas as pd\n",
    "!pip install pytrends\n",
    "from pytrends.request import TrendReq\n",
    "#임의의 데이터\n",
    "data = [['2020-07-01',1200,100,23,37],\n",
    "        ['2020-07-02',1400,150,24,30],\n",
    "        ['2020-07-03',1700,200,34,74]]\n",
    "# data 변수 안에 dictionary형태의 x1, x2, y key 이름을 가진 데이터를 생성한다.\n",
    "\n",
    "data = pd.DataFrame(data,columns=['date','korona','rain','temp','recommendation'])                 \n",
    "# data변수 안에 저장된 데이터를 pandas.DataFrame 함수를 통해 2차원의 수정 가능한 테이블 형태의 구조로 변경 후 data 변수에 저장\n",
    "\n",
    "X = data[['korona','rain','temp']]                   \n",
    "# 독립변수들을 따로 변수에 저장. \"data\"데이터 프레임 안에 독립변수 \"x1\"과 \"x2\"를 \"X\"라는 변수에 저장.\n",
    "\n",
    "y = data['recommendation']\n",
    "data"
   ]
  },
  {
   "cell_type": "code",
   "execution_count": 2,
   "id": "ab01abd5",
   "metadata": {},
   "outputs": [
    {
     "name": "stdout",
     "output_type": "stream",
     "text": [
      "a value =  -321.27685325264724\n",
      "b value =  [ 0.44695915 -1.94184569  0.70045386]\n"
     ]
    }
   ],
   "source": [
    "# 앞의 단일 선형회귀모델 실습에서 보신 내용과 동일한 코드를 이용하여 학습을 진행한다.\n",
    "# 하나의 a값과 두 개의 b값이 출력된다. b값은 독립변수 개수만큼 생성되기 때문이다.\n",
    "linear_regression = linear_model.LinearRegression()\n",
    "linear_regression.fit(X = pd.DataFrame(X), y = y)\n",
    "prediction = linear_regression.predict(X = pd.DataFrame(X))\n",
    "print('a value = ', linear_regression.intercept_)\n",
    "print('b value = ', linear_regression.coef_)"
   ]
  },
  {
   "cell_type": "code",
   "execution_count": 3,
   "id": "f05efb27",
   "metadata": {},
   "outputs": [
    {
     "name": "stdout",
     "output_type": "stream",
     "text": [
      "<class 'sklearn.linear_model._base.LinearRegression'>\n"
     ]
    }
   ],
   "source": [
    "print(type(linear_regression))"
   ]
  },
  {
   "cell_type": "code",
   "execution_count": 4,
   "id": "d0549ada",
   "metadata": {},
   "outputs": [],
   "source": [
    "my_apartment = [[1200,100,24]]\n",
    "answer = linear_regression.predict(my_apartment)"
   ]
  },
  {
   "cell_type": "code",
   "execution_count": 5,
   "id": "7d7af7d7",
   "metadata": {},
   "outputs": [
    {
     "name": "stdout",
     "output_type": "stream",
     "text": [
      "37.70045385779139\n"
     ]
    }
   ],
   "source": [
    "print(answer[0])"
   ]
  },
  {
   "cell_type": "code",
   "execution_count": 19,
   "id": "4a4f9812",
   "metadata": {},
   "outputs": [
    {
     "name": "stdout",
     "output_type": "stream",
     "text": [
      "R_squared =  1.0\n"
     ]
    }
   ],
   "source": [
    "# 적합도 검증 - 잔차\n",
    "residuals = y-prediction\n",
    "residuals.describe()\n",
    "# 적합도 검증 - 결정계수\n",
    "SSE = (residuals**2).sum()\n",
    "SST = ((y-y.mean())**2).sum()\n",
    "R_squared = 1 - (SSE/SST)\n",
    "print('R_squared = ', R_squared)"
   ]
  },
  {
   "cell_type": "code",
   "execution_count": 20,
   "id": "3d6802b5",
   "metadata": {},
   "outputs": [
    {
     "name": "stdout",
     "output_type": "stream",
     "text": [
      "score =  1.0\n",
      "Mean_Squared_Error =  8.077935669463161e-28\n",
      "RMSE =  2.842170943040401e-14\n"
     ]
    }
   ],
   "source": [
    "# 생성된 회귀분석모델에 대한 결정계수 MSE, RMSE를 구해보자. \n",
    "from sklearn.metrics import mean_squared_error\n",
    "print('score = ', linear_regression.score(X =pd.DataFrame(X), y=y))\n",
    "print('Mean_Squared_Error = ', mean_squared_error(prediction, y))\n",
    "print('RMSE = ', mean_squared_error(prediction, y)**0.5)"
   ]
  },
  {
   "cell_type": "code",
   "execution_count": 12,
   "id": "b2cd7e30",
   "metadata": {},
   "outputs": [
    {
     "name": "stdout",
     "output_type": "stream",
     "text": [
      "         date  korona  rain  temp  recommendation\n",
      "0  2020-07-01    1200   100    23             100\n",
      "1  2020-07-02    1400   150    24              59\n",
      "2  2020-07-03    1700   200    34              42\n",
      "[100.55780012]\n"
     ]
    }
   ],
   "source": [
    "data = [['2020-07-01',1200,100,23],\n",
    "        ['2020-07-02',1400,150,24],\n",
    "        ['2020-07-03',1700,200,34]]\n",
    "# data 변수 안에 dictionary형태의 x1, x2, y key 이름을 가진 데이터를 생성한다.\n",
    "\n",
    "data = pd.DataFrame(data,columns=['date','korona','rain','temp'])                 \n",
    "# data변수 안에 저장된 데이터를 pandas.DataFrame 함수를 통해 2차원의 수정 가능한 테이블 형태의 구조로 변경 후 data 변수에 저장\n",
    "\n",
    "X = data[['korona','rain','temp']]                   \n",
    "# 독립변수들을 따로 변수에 저장. \"data\"데이터 프레임 안에 독립변수 \"x1\"과 \"x2\"를 \"X\"라는 변수에 저장.\n",
    "\n",
    "\n",
    "pytrends = TrendReq(hl='ko', tz = 540)\n",
    "\n",
    "keyword='에버랜드'\n",
    "pytrends.build_payload([keyword], cat=0,timeframe='2020-07-01 2020-07-03', geo='KR', gprop='')\n",
    "getdatainfo = pytrends.interest_over_time()\n",
    "del getdatainfo['isPartial']\n",
    "data['recommendation'] = getdatainfo[keyword].tolist()\n",
    "\n",
    "y = data['recommendation']\n",
    "\n",
    "print(data)\n",
    "\n",
    "linear_regression = linear_model.LinearRegression()\n",
    "linear_regression.fit(X = pd.DataFrame(X), y = y)\n",
    "prediction = linear_regression.predict(X = pd.DataFrame(X))\n",
    "\n",
    "my_apartment = [[1200,100,24]]\n",
    "answer = linear_regression.predict(my_apartment)\n",
    "print(answer)\n"
   ]
  },
  {
   "cell_type": "code",
   "execution_count": 11,
   "id": "7035fb96",
   "metadata": {},
   "outputs": [
    {
     "data": {
      "text/plain": [
       "True"
      ]
     },
     "execution_count": 11,
     "metadata": {},
     "output_type": "execute_result"
    }
   ],
   "source": [
    "[keyword]==['에버랜드']"
   ]
  },
  {
   "cell_type": "code",
   "execution_count": null,
   "id": "75f26d1e",
   "metadata": {},
   "outputs": [],
   "source": []
  }
 ],
 "metadata": {
  "kernelspec": {
   "display_name": "Python 3",
   "language": "python",
   "name": "python3"
  },
  "language_info": {
   "codemirror_mode": {
    "name": "ipython",
    "version": 3
   },
   "file_extension": ".py",
   "mimetype": "text/x-python",
   "name": "python",
   "nbconvert_exporter": "python",
   "pygments_lexer": "ipython3",
   "version": "3.8.8"
  }
 },
 "nbformat": 4,
 "nbformat_minor": 5
}
