{
 "cells": [
  {
   "cell_type": "code",
   "execution_count": 18,
   "metadata": {
    "scrolled": true
   },
   "outputs": [
    {
     "name": "stdout",
     "output_type": "stream",
     "text": [
      "{'서울특별시': {'강남구': '5,426', '강동구': '2,672', '강북구': '1,707', '강서구': '3,014', '관악구': '3,254', '광진구': '2,245', '구로구': '2,455', '금천구': '1,167', '노원구': '2,659', '도봉구': '1,913', '동대문구': '2,519', '동작구': '2,894', '마포구': '2,115', '서대문구': '1,700', '서초구': '3,541', '성동구': '1,997', '성북구': '2,469', '송파구': '4,973', '양천구': '2,100', '영등포구': '2,923', '용산구': '2,106', '은평구': '2,740', '종로구': '1,585', '중구': '2,090', '중랑구': '2,568'}, '부산광역시': {'강서구': '288', '금정구': '512', '기장군': '247', '남구': '580', '동구': '541', '동래구': '671', '부산진구': '773', '북구': '495', '사상구': '530', '사하구': '707', '서구': '595', '수영구': '382', '연제구': '613', '영도구': '387', '중구': '230', '해운대구': '713'}, '대구광역시': {'남구': '2,056', '달서구': '2,361', '달성군': '921', '동구': '1,460', '북구': '1,416', '서구': '1,386', '수성구': '1,592', '중구': '500'}, '인천광역시': {'강화군': '148', '계양구': '931', '남동구': '1,409', '동구': '242', '미추홀구': '1,184', '부평구': '1,729', '서구': '1,646', '연수구': '1,303', '중구': '557'}, '광주광역시': {'광산구': '1,031', '남구': '406', '동구': '305', '북구': '876', '서구': '795'}, '대전광역시': {'대덕구': '503', '동구': '604', '서구': '1,129', '유성구': '978', '중구': '1,044'}, '울산광역시': {'남구': '1,140', '동구': '446', '북구': '654', '울주군': '384', '중구': '602'}, '세종특별자치시': {'세종': '745'}, '경기도': {'가평군': '235', '고양시덕양구': '1,888', '고양시일산동구': '1,530', '고양시일산서구': '1,076', '과천시': '265', '광명시': '1,591', '광주시': '2,006', '구리시': '1,112', '군포시': '1,254', '김포시': '1,724', '남양주시': '3,154', '동두천시': '575', '부천시': '3,693', '성남시분당구': '2,529', '성남시수정구': '1,455', '성남시중원구': '1,174', '수원시권선구': '1,005', '수원시영통구': '1,046', '수원시장안구': '856', '수원시팔달구': '846', '시흥시': '1,831', '안산시단원구': '1,796', '안산시상록구': '1,191', '안성시': '684', '안양시동안구': '1,471', '안양시만안구': '1,166', '양주시': '911', '양평군': '456', '여주시': '447', '연천군': '265', '오산시': '667', '용인시기흥구': '1,626', '용인시수지구': '1,596', '용인시처인구': '823', '의왕시': '519', '의정부시': '2,041', '이천시': '1,221', '파주시': '1,481', '평택시': '2,878', '포천시': '620', '하남시': '1,257', '화성시': '2,226'}, '강원도': {'강릉시': '818', '고성군': '39', '동해시': '410', '삼척시': '49', '속초시': '353', '양구군': '21', '양양군': '135', '영월군': '73', '원주시': '981', '인제군': '65', '정선군': '61', '철원군': '272', '춘천시': '596', '태백시': '64', '평창군': '192', '홍천군': '288', '화천군': '55', '횡성군': '65'}, '충청북도': {'괴산군': '121', '단양군': '55', '보은군': '36', '영동군': '87', '옥천군': '62', '음성군': '522', '제천시': '417', '증평군': '126', '진천군': '393', '청주시상당구': '342', '청주시서원구': '478', '청주시청원구': '296', '청주시흥덕구': '518', '충주시': '414'}, '충청남도': {'계룡시': '46', '공주시': '204', '금산군': '89', '논산시': '232', '당진시': '485', '보령시': '197', '부여군': '90', '서산시': '425', '서천군': '100', '아산시': '862', '예산군': '74', '천안시동남구': '697', '천안시서북구': '1,150', '청양군': '91', '태안군': '110', '홍성군': '140'}, '전라북도': {'고창군': '37', '군산시': '447', '김제시': '205', '남원시': '99', '무주군': '28', '부안군': '18', '순창군': '135', '완주군': '146', '익산시': '574', '임실군': '16', '장수군': '37', '전주시덕진구': '26', '전주시완산구': '871', '정읍시': '118', '진안군': '24'}, '전라남도': {'강진군': '8', '고흥군': '67', '곡성군': '17', '광양시': '165', '구례군': '14', '나주시': '122', '담양군': '39', '목포시': '183', '무안군': '52', '보성군': '20', '순천시': '511', '신안군': '21', '여수시': '381', '영광군': '26', '영암군': '92', '완도군': '70', '장성군': '60', '장흥군': '15', '진도군': '14', '함평군': '47', '해남군': '25', '화순군': '95'}, '경상북도': {'경산시': '1,411', '경주시': '529', '고령군': '54', '구미시': '732', '군위군': '21', '김천시': '352', '문경시': '53', '봉화군': '72', '상주시': '153', '성주군': '38', '안동시': '304', '영덕군': '43', '영양군': '9', '영주시': '106', '영천시': '132', '예천군': '77', '울릉군': '3', '울진군': '23', '의성군': '143', '청도군': '197', '청송군': '62', '칠곡군': '195', '포항시남구': '364', '포항시북구': '411'}, '경상남도': {'거제시': '659', '거창군': '53', '고성군': '47', '김해시': '1,491', '남해군': '66', '밀양시': '170', '사천시': '382', '산청군': '57', '양산시': '611', '의령군': '15', '진주시': '1,446', '창녕군': '229', '창원시마산합포구': '463', '창원시마산회원구': '60', '창원시성산구': '94', '창원시의창구': '737', '창원시진해구': '235', '통영시': '127', '하동군': '90', '함안군': '129', '함양군': '65', '합천군': '62'}, '제주특별자치도': {'서귀포시': '357', '제주시': '1,395'}}\n"
     ]
    }
   ],
   "source": [
    "#오늘 날짜 코로나 확진자수 크롤링 (서울)\n",
    "#오늘자 누적 확진자수 전국 (2021.08.01 )\n",
    "\n",
    "def region(trs):\n",
    "    borough_dic={}\n",
    "    for tr in trs:\n",
    "        tds=tr.find_all('td')\n",
    "        count=0    \n",
    "        for td in tds:\n",
    "            if count%2==0:\n",
    "                borough_dic[td.get_text()]=''\n",
    "                count+=1\n",
    "                now=td.get_text()\n",
    "            else:\n",
    "                borough_dic[now]=td.get_text()\n",
    "                count+=1\n",
    "    return borough_dic\n",
    "    \n",
    "    \n",
    "    \n",
    "import requests\n",
    "from bs4 import BeautifulSoup\n",
    "\n",
    "#서울, 부산, 대구, 인천, 광주, 대전, 울산,세종, 경기. 강원, 충북, 충남, 전북, 전남, 경북, 경남, 제주\n",
    "city_dict={'서울특별시':['#zone_popup1 > div > table:nth-child(1) > tbody','#zone_popup1 > div > table:nth-child(2) > tbody'],\n",
    "          '부산광역시': ['#zone_popup2 > div > table:nth-child(1) > tbody','#zone_popup2 > div > table:nth-child(2) > tbody'],\n",
    "          '대구광역시':['#zone_popup3 > div > table > tbody'],\n",
    "          '인천광역시':['#zone_popup4 > div > table > tbody'],\n",
    "          '광주광역시':['#zone_popup5 > div > table > tbody'],\n",
    "          '대전광역시':['#zone_popup6 > div > table > tbody'],\n",
    "          '울산광역시':['#zone_popup7 > div > table > tbody'],\n",
    "          '세종특별자치시':['#zone_popup8 > div > table > tbody'],\n",
    "          '경기도':['#zone_popup9 > div > table:nth-child(1) > tbody','#zone_popup9 > div > table:nth-child(2) > tbody'],\n",
    "          '강원도':['#zone_popup10 > div > table:nth-child(1) > tbody','#zone_popup10 > div > table:nth-child(2) > tbody'],\n",
    "          '충청북도':['#zone_popup11 > div > table:nth-child(1) > tbody','#zone_popup11 > div > table:nth-child(2) > tbody'],\n",
    "          '충청남도':['#zone_popup12 > div > table:nth-child(1) > tbody','#zone_popup12 > div > table:nth-child(2) > tbody'],\n",
    "          '전라북도':['#zone_popup13 > div > table:nth-child(1) > tbody','#zone_popup13 > div > table:nth-child(2) > tbody'],\n",
    "          '전라남도':['#zone_popup14 > div > table:nth-child(1) > tbody','#zone_popup14 > div > table:nth-child(2) > tbody'],\n",
    "          '경상북도':['#zone_popup15 > div > table:nth-child(1) > tbody','#zone_popup15 > div > table:nth-child(2) > tbody'],\n",
    "          '경상남도':['#zone_popup16 > div > table:nth-child(1) > tbody','#zone_popup16 > div > table:nth-child(2) > tbody'],\n",
    "          '제주특별자치도':['#zone_popup17 > div > table > tbody']}\n",
    "\n",
    "\n",
    "res=requests.get('http://ncov.mohw.go.kr/bdBoardList_Real.do?brdId=1&brdGubun=13&ncvContSeq=&contSeq=&board_id=&gubun=')\n",
    "soup=BeautifulSoup(res.content,'html.parser')\n",
    "region_dict={}\n",
    "for city in city_dict:\n",
    "    city_covid_dict={}\n",
    "    for gu in city_dict[city]:\n",
    "        gu_covid=soup.select(gu)\n",
    "        city_covid_dict.update(region(gu_covid))\n",
    "    region_dict[city]=city_covid_dict\n",
    "\n",
    "\n",
    "print(region_dict)"
   ]
  },
  {
   "cell_type": "code",
   "execution_count": 20,
   "metadata": {},
   "outputs": [
    {
     "name": "stdout",
     "output_type": "stream",
     "text": [
      "1 <b>롯데월드</b> 서울특별시 송파구 잠실동 40-1\n",
      "서울특별시\n",
      "송파구\n",
      "오늘 서울특별시 송파구의 확진자수 : 4,973\n"
     ]
    }
   ],
   "source": [
    "#장소가 포함된 지역 코로나 확진자수 리턴\n",
    "import requests\n",
    "import openpyxl\n",
    "\n",
    "client_id = '_Lv0lw15IyJul_dIGFIK'\n",
    "client_secret = 'sx3wBOdCoW'\n",
    "place='롯데월드'\n",
    "\n",
    "naver_open_api = 'https://openapi.naver.com/v1/search/local.json?query='+place\n",
    "header_params = {\"X-Naver-Client-Id\":client_id, \"X-Naver-Client-Secret\":client_secret}\n",
    "res = requests.get(naver_open_api, headers=header_params)\n",
    "\n",
    "\n",
    "if res.status_code == 200:\n",
    "    data = res.json()\n",
    "    for index, item in enumerate(data['items']):\n",
    "        print (index + 1, item['title'], item['address'])\n",
    "        city=item['address'].split(' ')[0]\n",
    "        gu=item['address'].split(' ')[1]\n",
    "        print(city)\n",
    "        print(gu)        \n",
    "else:\n",
    "    print (\"Error Code:\", res.status_code)\n",
    "\n",
    "# print(region_dict.keys())\n",
    "for borough in region_dict.keys():  \n",
    "    if city==borough:\n",
    "        for gu_covid in region_dict[city].keys():\n",
    "            if gu==gu_covid:\n",
    "                print('오늘 '+city+' '+gu+'의 확진자수 : '+region_dict[city][gu])"
   ]
  },
  {
   "cell_type": "code",
   "execution_count": null,
   "metadata": {},
   "outputs": [],
   "source": []
  }
 ],
 "metadata": {
  "kernelspec": {
   "display_name": "Python 3",
   "language": "python",
   "name": "python3"
  },
  "language_info": {
   "codemirror_mode": {
    "name": "ipython",
    "version": 3
   },
   "file_extension": ".py",
   "mimetype": "text/x-python",
   "name": "python",
   "nbconvert_exporter": "python",
   "pygments_lexer": "ipython3",
   "version": "3.8.8"
  }
 },
 "nbformat": 4,
 "nbformat_minor": 4
}
