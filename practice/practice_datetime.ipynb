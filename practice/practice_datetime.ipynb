{
 "cells": [
  {
   "cell_type": "markdown",
   "id": "cac02a8e",
   "metadata": {},
   "source": [
    "###"
   ]
  },
  {
   "cell_type": "code",
   "execution_count": 17,
   "id": "8ffc8a14",
   "metadata": {},
   "outputs": [],
   "source": [
    "from datetime import datetime,timedelta"
   ]
  },
  {
   "cell_type": "code",
   "execution_count": 23,
   "id": "f3d1bb2c",
   "metadata": {},
   "outputs": [],
   "source": [
    "start = datetime(2020, 7, 1)\n",
    "end = datetime(2021, 7, 31)"
   ]
  },
  {
   "cell_type": "code",
   "execution_count": null,
   "id": "fcbc3131",
   "metadata": {},
   "outputs": [],
   "source": [
    "print(end)"
   ]
  },
  {
   "cell_type": "code",
   "execution_count": 26,
   "id": "fc853037",
   "metadata": {},
   "outputs": [
    {
     "name": "stdout",
     "output_type": "stream",
     "text": [
      "395 days, 0:00:00\n",
      "395\n"
     ]
    }
   ],
   "source": [
    "a = end - start\n",
    "print(a)\n",
    "print(a.days)"
   ]
  },
  {
   "cell_type": "code",
   "execution_count": 28,
   "id": "5d04ae8a",
   "metadata": {},
   "outputs": [
    {
     "name": "stdout",
     "output_type": "stream",
     "text": [
      "2021-08-13\n",
      "2021-08-23\n"
     ]
    }
   ],
   "source": [
    "today = datetime.today()\n",
    "print(today.strftime('%Y-%m-%d'))\n",
    "today = today + timedelta(days=10)\n",
    "print(today.strftime('%Y-%m-%d'))"
   ]
  },
  {
   "cell_type": "code",
   "execution_count": 31,
   "id": "37abce74",
   "metadata": {},
   "outputs": [
    {
     "name": "stdout",
     "output_type": "stream",
     "text": [
      "         date  confirmed  average_temp  highest_temp  lowest_temp  \\\n",
      "0  2020-07-01       1200            23            31           21   \n",
      "1  2020-07-02       1400            24            27           21   \n",
      "2  2020-07-03       1700            34            37           30   \n",
      "\n",
      "   average_cloud  precipitation  \n",
      "0              2             20  \n",
      "1             10             30  \n",
      "2             20             40  \n"
     ]
    }
   ],
   "source": [
    "import pandas as pd\n",
    "#임의의 데이터\n",
    "data = [['2020-07-01',1200,23,31,21,2,20],\n",
    "        ['2020-07-02',1400,24,27,21,10,30],\n",
    "        ['2020-07-03',1700,34,37,30,20,40]]\n",
    "# data 변수 안에 dictionary형태의 x1, x2, y key 이름을 가진 데이터를 생성한다.\n",
    "\n",
    "data = pd.DataFrame(data,columns=['date','confirmed','average_temp',\n",
    "                                  'highest_temp','lowest_temp','average_cloud','precipitation'])\n",
    "print(data)\n",
    "data.to_csv('testdata.csv') "
   ]
  },
  {
   "cell_type": "code",
   "execution_count": null,
   "id": "a9a1cc8d",
   "metadata": {},
   "outputs": [],
   "source": []
  }
 ],
 "metadata": {
  "kernelspec": {
   "display_name": "Python 3",
   "language": "python",
   "name": "python3"
  },
  "language_info": {
   "codemirror_mode": {
    "name": "ipython",
    "version": 3
   },
   "file_extension": ".py",
   "mimetype": "text/x-python",
   "name": "python",
   "nbconvert_exporter": "python",
   "pygments_lexer": "ipython3",
   "version": "3.8.8"
  }
 },
 "nbformat": 4,
 "nbformat_minor": 5
}
