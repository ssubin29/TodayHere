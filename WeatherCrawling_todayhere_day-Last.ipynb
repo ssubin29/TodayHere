{
 "cells": [
  {
   "cell_type": "code",
   "execution_count": 11,
   "id": "20b4127e",
   "metadata": {},
   "outputs": [
    {
     "name": "stderr",
     "output_type": "stream",
     "text": [
      "<ipython-input-11-603494ea5738>:14: DeprecationWarning: use options instead of chrome_options\n",
      "  driver = webdriver.Chrome(chromedriver, chrome_options=options)\n"
     ]
    }
   ],
   "source": [
    "from selenium import webdriver \n",
    "from selenium.webdriver.common.keys import Keys \n",
    "from selenium.webdriver.support.ui import Select\n",
    "from selenium.webdriver import ActionChains\n",
    "import time\n",
    "\n",
    "chromedriver ='C:/dev_python/Webdriver/chromedriver.exe'\n",
    "options = webdriver.ChromeOptions()\n",
    "#options.add_argument('headless')\n",
    "options.add_argument('start-maximized')\n",
    "options.add_argument('disable-infobars')\n",
    "options.add_experimental_option(\"useAutomationExtension\", False)\n",
    "options.add_experimental_option(\"excludeSwitches\",[\"enable-automation\"])\n",
    "driver = webdriver.Chrome(chromedriver, chrome_options=options)"
   ]
  },
  {
   "cell_type": "code",
   "execution_count": 12,
   "id": "5946bbc6",
   "metadata": {},
   "outputs": [],
   "source": [
    "#url 가져오기\n",
    "driver.get('https://www.weather.go.kr/w/obs-climate/land/past-obs/obs-by-element.do')\n",
    "\n",
    "#콤보박스\n",
    "#select_stn=Select(driver.find_element_by_id(\"select-stn\")) #지점\n",
    "#지점은 총 107곳 존재함\n",
    "stn_count=107\n",
    "select_yy=Select(driver.find_element_by_id(\"select-yy\")) #년도\n",
    "select_obs=Select(driver.find_element_by_id(\"select-obs\")) #요소"
   ]
  },
  {
   "cell_type": "code",
   "execution_count": 13,
   "id": "48053e02",
   "metadata": {},
   "outputs": [
    {
     "name": "stdout",
     "output_type": "stream",
     "text": [
      "['서울', '백령도', '동두천', '파주', '', '인천', '수원', '강화', '양평', '이천', '', '북춘천', '철원', '춘천', '원주', '영월', '인제', '홍천', '', '북강릉', '울릉도', '강릉', '속초', '대관령', '동해', '태백', '정선군', '', '청주', '충주', '추풍령', '제천', '보은', '', '홍성', '대전', '서산', '천안', '보령', '부여', '금산', '', '전주', '군산', '부안', '임실', '정읍', '남원', '장수', '순창', '', '고창', '', '광주', '목포', '흑산도', '여수', '완도', '진도(첨찰산)', '진도군', '영광', '', '순천', '장흥', '해남', '고흥', '강진군', '보성군', '광양', '', '안동', '포항', '', '대구', '울진', '상주', '봉화', '영주', '문경', '영덕', '의성', '구미', '영천', '청송군', '경주', '', '부산', '울산', '창원', '북창원', '통영', '진주', '거창', '합천', '밀양', '산청', '거제', '남해', '김해시', '양산', '의령군', '함양군', '', '제주', '고산', '서귀포', '성산']\n"
     ]
    }
   ],
   "source": [
    "#stn_list 지역 리스트 중복 제거 및 기타 처리\n",
    "select= driver.find_element_by_css_selector('#select-stn')\n",
    "text=select.text\n",
    "\n",
    "import re\n",
    "text= text.replace(\"(유)\",\" \")\n",
    "text= text.replace(\"(무)\",\" \")\n",
    "text= text.replace(\"(구)\",\" \")\n",
    "\n",
    "stn_list=text.split('\\n')\n",
    "stn_list=text.split('\\n')\n",
    "for i in range(len(stn_list)):\n",
    "    try:\n",
    "        if((stn_list[i]=='--------') or (stn_list[i]==stn_list[i+1])):\n",
    "            stn_list[i]=''\n",
    "        stn_list[i]=stn_list[i].strip()\n",
    "    except:\n",
    "        stn_list[i]=stn_list[i].strip()\n",
    "        break\n",
    "print(stn_list)"
   ]
  },
  {
   "cell_type": "code",
   "execution_count": 14,
   "id": "05ff136b",
   "metadata": {},
   "outputs": [],
   "source": [
    "#선택버튼 클릭\n",
    "def selectbtnClick():\n",
    "    select= driver.find_element_by_css_selector('#default-form > div > div:nth-child(3) > input[type=submit]')\n",
    "    print(select.text)\n",
    "    btnClick = ActionChains(driver).move_to_element(select).click()\n",
    "    btnClick.perform()"
   ]
  },
  {
   "cell_type": "code",
   "execution_count": 28,
   "id": "0d55f8f0",
   "metadata": {},
   "outputs": [
    {
     "name": "stdout",
     "output_type": "stream",
     "text": [
      "\n"
     ]
    }
   ],
   "source": [
    "#2020-01-01 ~ 2020-12-29 평균기온 크롤링\n",
    "select_yy=Select(driver.find_element_by_id(\"select-yy\"))\n",
    "select_yy.select_by_index(1)\n",
    "for stn in range(1):\n",
    "    select_stn=Select(driver.find_element_by_id(\"select-stn\"))\n",
    "    select_stn.select_by_index(stn)\n",
    "    selectbtnClick()\n",
    "    select_obs=Select(driver.find_element_by_id(\"select-obs\")) #요소\n",
    "    select_obs.select_by_index(3)\n",
    "    table = driver.find_element_by_id('weather_table')\n",
    "    #print(stn,table.text)\n",
    "    time.sleep(5)\n",
    "\n",
    "#2021-01-01 ~ 2020-7-31 평균기온 크롤링"
   ]
  },
  {
   "cell_type": "code",
   "execution_count": 29,
   "id": "b526aa41",
   "metadata": {},
   "outputs": [
    {
     "name": "stdout",
     "output_type": "stream",
     "text": [
      "일자\n",
      "1월\n",
      "2월\n",
      "3월\n",
      "4월\n",
      "5월\n",
      "6월\n",
      "7월\n",
      "8월\n",
      "9월\n",
      "10월\n",
      "11월\n",
      "12월\n",
      "1일 0.1   0.2     0.4 0.0 39.1 0.0   13.6  \n",
      "2일     0.0   0.0 2.0   31.4 33.3 0.0 1.7  \n",
      "3일   0.0     0.0   0.1 102.6 29.8 0.0 0.5  \n",
      "4일   1.7 0.0     0.2 1.6 3.9   0.0    \n",
      "5일               18.5        \n",
      "6일 1.8             75.7 6.4      \n",
      "7일 46.3 0.0         0.0 0.0 61.0   0.1  \n",
      "8일 11.6 0.0     2.3     19.1 0.0      \n",
      "9일   0.0     24.4     50.3 1.3      \n",
      "10일   0.0 11.8   1.3 6.2 2.2 44.6 3.9     0.0\n",
      "11일         3.4 0.0   97.0 1.2      \n",
      "12일   6.7     0.7   2.9   5.7      \n",
      "13일     0.5     0.0 47.6         2.9\n",
      "14일           1.1 11.5 0.4 0.0      \n",
      "15일   2.0     12.0     69.0        \n",
      "16일   13.4     2.5       0.3      \n",
      "17일   1.0   6.5 0.0   0.0       0.1 0.0\n",
      "18일         29.8           12.2 0.2\n",
      "19일 0.6   0.0 10.3 19.0 0.1 29.1   0.3   86.9  \n",
      "20일       0.1 0.0   3.6       0.0  \n",
      "21일   4.2         0.0 2.5     0.2  \n",
      "22일   3.1   0.0 0.0   11.5 42.6   0.0 4.8  \n",
      "23일         0.0 0.0 103.1         0.0\n",
      "24일         14.5 37.6 2.9          \n",
      "25일   16.6       13.3 0.0          \n",
      "26일   0.0 1.8   1.5 2.1 0.0 0.6        \n",
      "27일 0.1   2.0     0.0 2.2 8.7     0.0 0.0\n",
      "28일 0.0 3.9     0.0   0.4 13.6       1.3\n",
      "29일   0.5       11.9 50.1 13.6       0.2\n",
      "30일           64.7 0.1 42.5 38.3      \n",
      "31일 0.0       1.0   1.5 0.0       0.0\n",
      "합계 60.5 53.1 16.3 16.9 112.4 139.6 270.4 675.7 181.5 0.0 120.1 4.6\n"
     ]
    }
   ],
   "source": [
    "print(table.text)"
   ]
  },
  {
   "cell_type": "code",
   "execution_count": 45,
   "id": "f0950b69",
   "metadata": {},
   "outputs": [
    {
     "name": "stdout",
     "output_type": "stream",
     "text": [
      "[['0.1', '', '', '0.2', '', '', '', '', '0.4', '0.0', '39.1', '0.0', '', '', '13.6', '', ''], ['', '', '', '', '0.0', '', '', '0.0', '2.0', '', '', '31.4', '33.3', '0.0', '1.7', '', ''], ['', '', '0.0', '', '', '', '', '0.0', '', '', '0.1', '102.6', '29.8', '0.0', '0.5', '', ''], ['', '', '1.7', '0.0', '', '', '', '', '0.2', '1.6', '3.9', '', '', '0.0', '', '', '', ''], ['', '', '', '', '', '', '', '', '', '', '', '', '', '', '18.5', '', '', '', '', '', '', '', ''], ['1.8', '', '', '', '', '', '', '', '', '', '', '', '', '75.7', '6.4', '', '', '', '', '', ''], ['46.3', '0.0', '', '', '', '', '', '', '', '', '0.0', '0.0', '61.0', '', '', '0.1', '', ''], ['11.6', '0.0', '', '', '', '', '2.3', '', '', '', '', '19.1', '0.0', '', '', '', '', '', ''], ['', '', '0.0', '', '', '', '', '24.4', '', '', '', '', '50.3', '1.3', '', '', '', '', '', ''], ['', '', '0.0', '11.8', '', '', '1.3', '6.2', '2.2', '44.6', '3.9', '', '', '', '', '0.0'], ['', '', '', '', '', '', '', '', '3.4', '0.0', '', '', '97.0', '1.2', '', '', '', '', '', ''], ['', '', '6.7', '', '', '', '', '0.7', '', '', '2.9', '', '', '5.7', '', '', '', '', '', ''], ['', '', '', '', '0.5', '', '', '', '', '0.0', '47.6', '', '', '', '', '', '', '', '', '2.9'], ['', '', '', '', '', '', '', '', '', '', '1.1', '11.5', '0.4', '0.0', '', '', '', '', '', ''], ['', '', '2.0', '', '', '', '', '12.0', '', '', '', '', '69.0', '', '', '', '', '', '', '', ''], ['', '', '13.4', '', '', '', '', '2.5', '', '', '', '', '', '', '0.3', '', '', '', '', '', ''], ['', '', '1.0', '', '', '6.5', '0.0', '', '', '0.0', '', '', '', '', '', '', '0.1', '0.0'], ['', '', '', '', '', '', '', '', '29.8', '', '', '', '', '', '', '', '', '', '', '12.2', '0.2'], ['0.6', '', '', '0.0', '10.3', '19.0', '0.1', '29.1', '', '', '0.3', '', '', '86.9', '', ''], ['', '', '', '', '', '', '0.1', '0.0', '', '', '3.6', '', '', '', '', '', '', '0.0', '', ''], ['', '', '4.2', '', '', '', '', '', '', '', '', '0.0', '2.5', '', '', '', '', '0.2', '', ''], ['', '', '3.1', '', '', '0.0', '0.0', '', '', '11.5', '42.6', '', '', '0.0', '4.8', '', ''], ['', '', '', '', '', '', '', '', '0.0', '0.0', '103.1', '', '', '', '', '', '', '', '', '0.0'], ['', '', '', '', '', '', '', '', '14.5', '37.6', '2.9', '', '', '', '', '', '', '', '', '', ''], ['', '', '16.6', '', '', '', '', '', '', '13.3', '0.0', '', '', '', '', '', '', '', '', '', ''], ['', '', '0.0', '1.8', '', '', '1.5', '2.1', '0.0', '0.6', '', '', '', '', '', '', '', ''], ['0.1', '', '', '2.0', '', '', '', '', '0.0', '2.2', '8.7', '', '', '', '', '0.0', '0.0'], ['0.0', '3.9', '', '', '', '', '0.0', '', '', '0.4', '13.6', '', '', '', '', '', '', '1.3'], ['', '', '0.5', '', '', '', '', '', '', '11.9', '50.1', '13.6', '', '', '', '', '', '', '0.2'], ['', '', '', '', '', '', '', '', '', '', '64.7', '0.1', '42.5', '38.3', '', '', '', '', '', ''], ['0.0', '', '', '', '', '', '', '1.0', '', '', '1.5', '0.0', '', '', '', '', '', '', '0.0']]\n",
      "17\n",
      "17\n",
      "17\n",
      "18\n",
      "23\n",
      "21\n",
      "18\n",
      "19\n",
      "20\n",
      "16\n",
      "20\n",
      "20\n",
      "20\n",
      "20\n",
      "21\n",
      "21\n",
      "18\n",
      "21\n",
      "16\n",
      "20\n",
      "20\n",
      "17\n",
      "20\n",
      "21\n",
      "21\n",
      "18\n",
      "17\n",
      "18\n",
      "19\n",
      "20\n",
      "19\n",
      "[[0, 0, 0, 0, '0.4', '0.0', '39.1', 0, 0], [0, 0, 0, 0, '0.0', 0, '31.4', '33.3', '0.0', 0], [0, 0, 0, 0, 0, '0.1', '102.6', '29.8', '0.0', 0], [0, '1.7', 0, 0, 0, '0.2', '1.6', 0, 0, 0, 0], [0, 0, 0, 0, 0, 0, 0, 0, 0, 0, 0, 0, 0, 0, 0, 0, 0, 0, 0, 0], [0, 0, 0, 0, 0, 0, 0, 0, 0, 0, 0, '75.7', 0, 0, 0, 0, 0], ['46.3', 0, 0, 0, 0, 0, 0, 0, '0.0', '0.0', 0, 0], ['11.6', 0, 0, 0, 0, 0, 0, '19.1', 0, 0, 0, 0, 0], [0, 0, 0, 0, 0, 0, 0, '50.3', 0, 0, 0, 0, 0], [0, '0.0', 0, '1.3', '6.2', '2.2', '44.6', 0, 0, 0], [0, 0, 0, 0, 0, 0, 0, '3.4', 0, '97.0', 0, 0, 0, 0, 0], [0, 0, 0, 0, 0, 0, 0, 0, 0, 0, 0], [0, 0, 0, 0, 0, 0, '0.0', 0, 0, 0, 0, 0, 0, 0], [0, 0, 0, 0, 0, 0, 0, 0, 0, '1.1', '11.5', '0.4', 0, 0, 0, 0, 0], [0, 0, 0, 0, 0, 0, 0, 0, 0, 0, 0, 0, 0, 0], [0, 0, 0, 0, 0, 0, 0, 0, 0, 0, 0, 0, 0, 0], [0, 0, '6.5', 0, 0, 0, 0, 0, 0, '0.1'], [0, 0, 0, 0, 0, 0, 0, 0, 0, 0, 0, 0, 0, 0, 0, 0, '12.2'], [0, '0.0', '10.3', '19.0', '0.1', 0, 0, 0], [0, 0, 0, 0, 0, '0.1', 0, 0, 0, 0, 0, 0, 0], [0, 0, 0, 0, 0, 0, 0, 0, '0.0', 0, 0, 0, 0], [0, 0, '0.0', 0, '11.5', 0, '0.0', 0], [0, 0, 0, 0, 0, 0, 0, '0.0', '0.0', 0, 0, 0, 0, 0, 0, 0], [0, 0, 0, 0, 0, 0, 0, '14.5', '37.6', 0, 0, 0, 0, 0, 0, 0, 0, 0], [0, 0, 0, 0, 0, 0, '13.3', 0, 0, 0, 0, 0, 0, 0, 0, 0], [0, '0.0', 0, '1.5', '2.1', '0.0', 0, 0, 0, 0, 0, 0, 0], [0, 0, 0, 0, '0.0', '2.2', 0, 0, 0, '0.0'], ['0.0', 0, 0, 0, 0, '0.4', 0, 0, 0, 0, 0], [0, 0, 0, 0, 0, 0, '11.9', '50.1', 0, 0, 0, 0, 0], [0, 0, 0, 0, 0, 0, 0, 0, 0, '64.7', '0.1', '42.5', 0, 0, 0, 0, 0], [0, 0, 0, 0, 0, 0, '1.5', 0, 0, 0, 0, 0]]\n"
     ]
    }
   ],
   "source": [
    "import numpy as np\n",
    "text=table.text\n",
    "text_list=text.split('\\n')\n",
    "text_list=text_list[13:-1]\n",
    "for i in range(len(text_list)):\n",
    "    text_list[i]=text_list[i].split(' ')[1:]\n",
    "print(text_list)\n",
    "for i in range(len(text_list)):\n",
    "    print(len(text_list[i]))\n",
    "    if(len(text_list[i])!=12):\n",
    "        replacelist=[]\n",
    "        for j in range(len(text_list[i])-1):\n",
    "            if(text_list[i][j]=='' and text_list[i][j+1]==''):\n",
    "                replacelist.append(0)\n",
    "                continue\n",
    "            else:\n",
    "                if(text_list[i][j]!=''):\n",
    "                    replacelist.append(text_list[i][j])\n",
    "        text_list[i]=replacelist\n",
    "print(text_list)"
   ]
  },
  {
   "cell_type": "code",
   "execution_count": 46,
   "id": "cca76aed",
   "metadata": {},
   "outputs": [
    {
     "name": "stdout",
     "output_type": "stream",
     "text": [
      "      0    1     2     3     4    5      6     7     8     9     10    11  \\\n",
      "0      0    0     0     0   0.4  0.0   39.1     0     0  None  None  None   \n",
      "1      0    0     0     0   0.0    0   31.4  33.3   0.0     0  None  None   \n",
      "2      0    0     0     0     0  0.1  102.6  29.8   0.0     0  None  None   \n",
      "3      0  1.7     0     0     0  0.2    1.6     0     0     0     0  None   \n",
      "4      0    0     0     0     0    0      0     0     0     0     0     0   \n",
      "5      0    0     0     0     0    0      0     0     0     0     0  75.7   \n",
      "6   46.3    0     0     0     0    0      0     0   0.0   0.0     0     0   \n",
      "7   11.6    0     0     0     0    0      0  19.1     0     0     0     0   \n",
      "8      0    0     0     0     0    0      0  50.3     0     0     0     0   \n",
      "9      0  0.0     0   1.3   6.2  2.2   44.6     0     0     0  None  None   \n",
      "10     0    0     0     0     0    0      0   3.4     0  97.0     0     0   \n",
      "11     0    0     0     0     0    0      0     0     0     0     0  None   \n",
      "12     0    0     0     0     0    0    0.0     0     0     0     0     0   \n",
      "13     0    0     0     0     0    0      0     0     0   1.1  11.5   0.4   \n",
      "14     0    0     0     0     0    0      0     0     0     0     0     0   \n",
      "15     0    0     0     0     0    0      0     0     0     0     0     0   \n",
      "16     0    0   6.5     0     0    0      0     0     0   0.1  None  None   \n",
      "17     0    0     0     0     0    0      0     0     0     0     0     0   \n",
      "18     0  0.0  10.3  19.0   0.1    0      0     0  None  None  None  None   \n",
      "19     0    0     0     0     0  0.1      0     0     0     0     0     0   \n",
      "20     0    0     0     0     0    0      0     0   0.0     0     0     0   \n",
      "21     0    0   0.0     0  11.5    0    0.0     0  None  None  None  None   \n",
      "22     0    0     0     0     0    0      0   0.0   0.0     0     0     0   \n",
      "23     0    0     0     0     0    0      0  14.5  37.6     0     0     0   \n",
      "24     0    0     0     0     0    0   13.3     0     0     0     0     0   \n",
      "25     0  0.0     0   1.5   2.1  0.0      0     0     0     0     0     0   \n",
      "26     0    0     0     0   0.0  2.2      0     0     0   0.0  None  None   \n",
      "27   0.0    0     0     0     0  0.4      0     0     0     0     0  None   \n",
      "28     0    0     0     0     0    0   11.9  50.1     0     0     0     0   \n",
      "29     0    0     0     0     0    0      0     0     0  64.7   0.1  42.5   \n",
      "30     0    0     0     0     0    0    1.5     0     0     0     0     0   \n",
      "\n",
      "     12   13   14   15    16   17   18   19  \n",
      "0   NaN  NaN  NaN  NaN  None  NaN  NaN  NaN  \n",
      "1   NaN  NaN  NaN  NaN  None  NaN  NaN  NaN  \n",
      "2   NaN  NaN  NaN  NaN  None  NaN  NaN  NaN  \n",
      "3   NaN  NaN  NaN  NaN  None  NaN  NaN  NaN  \n",
      "4   0.0  0.0  0.0  0.0     0  0.0  0.0  0.0  \n",
      "5   0.0  0.0  0.0  0.0     0  NaN  NaN  NaN  \n",
      "6   NaN  NaN  NaN  NaN  None  NaN  NaN  NaN  \n",
      "7   0.0  NaN  NaN  NaN  None  NaN  NaN  NaN  \n",
      "8   0.0  NaN  NaN  NaN  None  NaN  NaN  NaN  \n",
      "9   NaN  NaN  NaN  NaN  None  NaN  NaN  NaN  \n",
      "10  0.0  0.0  0.0  NaN  None  NaN  NaN  NaN  \n",
      "11  NaN  NaN  NaN  NaN  None  NaN  NaN  NaN  \n",
      "12  0.0  0.0  NaN  NaN  None  NaN  NaN  NaN  \n",
      "13  0.0  0.0  0.0  0.0     0  NaN  NaN  NaN  \n",
      "14  0.0  0.0  NaN  NaN  None  NaN  NaN  NaN  \n",
      "15  0.0  0.0  NaN  NaN  None  NaN  NaN  NaN  \n",
      "16  NaN  NaN  NaN  NaN  None  NaN  NaN  NaN  \n",
      "17  0.0  0.0  0.0  0.0  12.2  NaN  NaN  NaN  \n",
      "18  NaN  NaN  NaN  NaN  None  NaN  NaN  NaN  \n",
      "19  0.0  NaN  NaN  NaN  None  NaN  NaN  NaN  \n",
      "20  0.0  NaN  NaN  NaN  None  NaN  NaN  NaN  \n",
      "21  NaN  NaN  NaN  NaN  None  NaN  NaN  NaN  \n",
      "22  0.0  0.0  0.0  0.0  None  NaN  NaN  NaN  \n",
      "23  0.0  0.0  0.0  0.0     0  0.0  NaN  NaN  \n",
      "24  0.0  0.0  0.0  0.0  None  NaN  NaN  NaN  \n",
      "25  0.0  NaN  NaN  NaN  None  NaN  NaN  NaN  \n",
      "26  NaN  NaN  NaN  NaN  None  NaN  NaN  NaN  \n",
      "27  NaN  NaN  NaN  NaN  None  NaN  NaN  NaN  \n",
      "28  0.0  NaN  NaN  NaN  None  NaN  NaN  NaN  \n",
      "29  0.0  0.0  0.0  0.0     0  NaN  NaN  NaN  \n",
      "30  NaN  NaN  NaN  NaN  None  NaN  NaN  NaN  \n"
     ]
    }
   ],
   "source": [
    "import pandas as pd\n",
    "print(pd.DataFrame(text_list))"
   ]
  },
  {
   "cell_type": "code",
   "execution_count": 42,
   "id": "2d08e279",
   "metadata": {},
   "outputs": [
    {
     "ename": "NameError",
     "evalue": "name 'df' is not defined",
     "output_type": "error",
     "traceback": [
      "\u001b[1;31m---------------------------------------------------------------------------\u001b[0m",
      "\u001b[1;31mNameError\u001b[0m                                 Traceback (most recent call last)",
      "\u001b[1;32m<ipython-input-42-62613b461ccf>\u001b[0m in \u001b[0;36m<module>\u001b[1;34m\u001b[0m\n\u001b[1;32m----> 1\u001b[1;33m \u001b[0mprint\u001b[0m\u001b[1;33m(\u001b[0m\u001b[0mlist\u001b[0m\u001b[1;33m(\u001b[0m\u001b[0mdf\u001b[0m\u001b[1;33m.\u001b[0m\u001b[0mcolumns\u001b[0m\u001b[1;33m)\u001b[0m\u001b[1;33m[\u001b[0m\u001b[1;36m7\u001b[0m\u001b[1;33m:\u001b[0m\u001b[1;33m]\u001b[0m\u001b[1;33m)\u001b[0m\u001b[1;33m\u001b[0m\u001b[1;33m\u001b[0m\u001b[0m\n\u001b[0m",
      "\u001b[1;31mNameError\u001b[0m: name 'df' is not defined"
     ]
    }
   ],
   "source": [
    "print(list(df.columns)[7:])"
   ]
  },
  {
   "cell_type": "code",
   "execution_count": 81,
   "id": "d9a00b1f",
   "metadata": {},
   "outputs": [
    {
     "ename": "TypeError",
     "evalue": "an integer is required (got type str)",
     "output_type": "error",
     "traceback": [
      "\u001b[1;31m---------------------------------------------------------------------------\u001b[0m",
      "\u001b[1;31mTypeError\u001b[0m                                 Traceback (most recent call last)",
      "\u001b[1;32m<ipython-input-81-86db125a7291>\u001b[0m in \u001b[0;36m<module>\u001b[1;34m\u001b[0m\n\u001b[1;32m----> 1\u001b[1;33m \u001b[0mdatetime\u001b[0m\u001b[1;33m(\u001b[0m\u001b[1;34m'2020-04-31'\u001b[0m\u001b[1;33m)\u001b[0m\u001b[1;33m\u001b[0m\u001b[1;33m\u001b[0m\u001b[0m\n\u001b[0m",
      "\u001b[1;31mTypeError\u001b[0m: an integer is required (got type str)"
     ]
    }
   ],
   "source": [
    "datetime('2020-04-31')"
   ]
  },
  {
   "cell_type": "code",
   "execution_count": 79,
   "id": "02df2fef",
   "metadata": {
    "scrolled": true
   },
   "outputs": [
    {
     "name": "stdout",
     "output_type": "stream",
     "text": [
      "[['2020-07-01', '21.1'], ['2020-07-02', '24.2'], ['2020-07-03', '25.5'], ['2020-07-04', '24.2'], ['2020-07-05', '23.8'], ['2020-07-06', '25.6'], ['2020-07-07', '24.1'], ['2020-07-08', '25.5'], ['2020-07-09', '27.5'], ['2020-07-10', '24.5'], ['2020-07-11', '25.8'], ['2020-07-12', '23.5'], ['2020-07-13', '18.7'], ['2020-07-14', '20.3'], ['2020-07-15', '23.4'], ['2020-07-16', '25.0'], ['2020-07-17', '26.0'], ['2020-07-18', '26.1'], ['2020-07-19', '24.0'], ['2020-07-20', '23.8'], ['2020-07-21', '25.0'], ['2020-07-22', '23.7'], ['2020-07-23', '21.1'], ['2020-07-24', '22.5'], ['2020-07-25', '24.3'], ['2020-07-26', '25.4'], ['2020-07-27', '24.3'], ['2020-07-28', '24.4'], ['2020-07-29', '23.7'], ['2020-07-30', '25.3'], ['2020-07-31', '26.2'], ['2020-08-01', '25.3'], ['2020-08-02', '24.9'], ['2020-08-03', '25.0'], ['2020-08-04', '27.0'], ['2020-08-05', '26.5'], ['2020-08-06', '24.1'], ['2020-08-07', '24.3'], ['2020-08-08', '24.2'], ['2020-08-09', '24.9'], ['2020-08-10', '26.5'], ['2020-08-11', '24.6'], ['2020-08-12', '27.2'], ['2020-08-13', '28.0'], ['2020-08-14', '27.1'], ['2020-08-15', '26.1'], ['2020-08-16', '27.4'], ['2020-08-17', '28.2'], ['2020-08-18', '27.5'], ['2020-08-19', '27.1'], ['2020-08-20', '27.7'], ['2020-08-21', '26.6'], ['2020-08-22', '24.3'], ['2020-08-23', '25.3'], ['2020-08-24', '27.8'], ['2020-08-25', '29.9'], ['2020-08-26', '30.2'], ['2020-08-27', '27.1'], ['2020-08-28', '27.3'], ['2020-08-29', '26.8'], ['2020-08-30', '26.8'], ['2020-08-31', '26.4'], ['2020-09-01', '26.6'], ['2020-09-02', '24.3'], ['2020-09-03', '22.7'], ['2020-09-04', '23.3'], ['2020-09-05', '23.3'], ['2020-09-06', '21.7'], ['2020-09-07', '19.2'], ['2020-09-08', '23.4'], ['2020-09-09', '21.1'], ['2020-09-10', '22.8'], ['2020-09-11', '22.4'], ['2020-09-12', '20.2'], ['2020-09-13', '21.5'], ['2020-09-14', '21.3'], ['2020-09-15', '23.0'], ['2020-09-16', '22.5'], ['2020-09-17', '21.3'], ['2020-09-18', '21.5'], ['2020-09-19', '21.2'], ['2020-09-20', '19.7'], ['2020-09-21', '19.1'], ['2020-09-22', '20.2'], ['2020-09-23', '19.2'], ['2020-09-24', '20.6'], ['2020-09-25', '20.1'], ['2020-09-26', '19.3'], ['2020-09-27', '20.4'], ['2020-09-28', '20.7'], ['2020-09-29', '19.6'], ['2020-09-30', '19.6'], ['2020-09-31', ''], ['2020-10-01', '18.8'], ['2020-10-02', '19.2'], ['2020-10-03', '19.9'], ['2020-10-04', '16.6'], ['2020-10-05', '13.3'], ['2020-10-06', '14.2'], ['2020-10-07', '16.0'], ['2020-10-08', '17.2'], ['2020-10-09', '17.2'], ['2020-10-10', '16.9'], ['2020-10-11', '16.9'], ['2020-10-12', '16.2'], ['2020-10-13', '13.6'], ['2020-10-14', '12.8'], ['2020-10-15', '11.7'], ['2020-10-16', '11.8'], ['2020-10-17', '13.1'], ['2020-10-18', '13.6'], ['2020-10-19', '15.1'], ['2020-10-20', '15.2'], ['2020-10-21', '14.1'], ['2020-10-22', '13.5'], ['2020-10-23', '8.6'], ['2020-10-24', '8.7'], ['2020-10-25', '11.8'], ['2020-10-26', '12.9'], ['2020-10-27', '14.0'], ['2020-10-28', '13.8'], ['2020-10-29', '10.8'], ['2020-10-30', '11.9'], ['2020-10-31', '13.6'], ['2020-11-01', '13.7'], ['2020-11-02', '10.8'], ['2020-11-03', '5.1'], ['2020-11-04', '4.9'], ['2020-11-05', '9.6'], ['2020-11-06', '13.5'], ['2020-11-07', '14.6'], ['2020-11-08', '8.5'], ['2020-11-09', '5.5'], ['2020-11-10', '7.7'], ['2020-11-11', '9.3'], ['2020-11-12', '10.4'], ['2020-11-13', '12.2'], ['2020-11-14', '12.5'], ['2020-11-15', '11.1'], ['2020-11-16', '12.4'], ['2020-11-17', '15.9'], ['2020-11-18', '16.6'], ['2020-11-19', '13.6'], ['2020-11-20', '2.8'], ['2020-11-21', '6.5'], ['2020-11-22', '5.6'], ['2020-11-23', '1.7'], ['2020-11-24', '2.9'], ['2020-11-25', '4.6'], ['2020-11-26', '5.6'], ['2020-11-27', '4.1'], ['2020-11-28', '-0.1'], ['2020-11-29', '-0.6'], ['2020-11-30', '-0.2'], ['2020-11-31', ''], ['2020-12-01', '1.1'], ['2020-12-02', '2.4'], ['2020-12-03', '0.7'], ['2020-12-04', '-0.6'], ['2020-12-05', '2.1'], ['2020-12-06', '4.5'], ['2020-12-07', '3.4'], ['2020-12-08', '-0.5'], ['2020-12-09', '1.5'], ['2020-12-10', '5.8'], ['2020-12-11', '5.3'], ['2020-12-12', '2.3'], ['2020-12-13', '-1.1'], ['2020-12-14', '-7.7'], ['2020-12-15', '-8.3'], ['2020-12-16', '-8.3'], ['2020-12-17', '-4.9'], ['2020-12-18', '-2.1'], ['2020-12-19', '-5.1'], ['2020-12-20', '-3.7'], ['2020-12-21', '-1.0'], ['2020-12-22', '2.0'], ['2020-12-23', '4.5'], ['2020-12-24', '2.6'], ['2020-12-25', '-0.8'], ['2020-12-26', '2.2'], ['2020-12-27', '5.8'], ['2020-12-28', '6.7'], ['2020-12-29', '0.1'], ['2020-12-30', '-10.9'], ['2020-12-31', '-8.9']]\n",
      "              0      1\n",
      "0    2020-07-01   21.1\n",
      "1    2020-07-02   24.2\n",
      "2    2020-07-03   25.5\n",
      "3    2020-07-04   24.2\n",
      "4    2020-07-05   23.8\n",
      "..          ...    ...\n",
      "181  2020-12-27    5.8\n",
      "182  2020-12-28    6.7\n",
      "183  2020-12-29    0.1\n",
      "184  2020-12-30  -10.9\n",
      "185  2020-12-31   -8.9\n",
      "\n",
      "[186 rows x 2 columns]\n"
     ]
    }
   ],
   "source": [
    "from datetime import datetime\n",
    "\n",
    "lists=[]\n",
    "\n",
    "for month in (list(df.columns)[6:]):\n",
    "    for day in (list(df.index)):\n",
    "        \n",
    "        months=str(month+1)\n",
    "        days=str(day+1)\n",
    "        if(month+1<10):\n",
    "            months='0'+months\n",
    "        if(day+1<10):\n",
    "            days='0'+days\n",
    "        \n",
    "        lists.append(['2020-'+months+'-'+days,df[month][day]])\n",
    "        \n",
    "print(lists)\n",
    "print(pd.DataFrame(lists))\n"
   ]
  },
  {
   "cell_type": "code",
   "execution_count": 42,
   "id": "71a11b0d",
   "metadata": {},
   "outputs": [
    {
     "name": "stdout",
     "output_type": "stream",
     "text": [
      "[[123, '']]\n"
     ]
    }
   ],
   "source": [
    "lista=[]\n",
    "lista.append([123,''])\n",
    "print(lista)"
   ]
  },
  {
   "cell_type": "code",
   "execution_count": 8,
   "id": "5c605249",
   "metadata": {},
   "outputs": [
    {
     "ename": "StaleElementReferenceException",
     "evalue": "Message: stale element reference: element is not attached to the page document\n  (Session info: chrome=92.0.4515.131)\n",
     "output_type": "error",
     "traceback": [
      "\u001b[1;31m---------------------------------------------------------------------------\u001b[0m",
      "\u001b[1;31mStaleElementReferenceException\u001b[0m            Traceback (most recent call last)",
      "\u001b[1;32m<ipython-input-8-b3db85e86f62>\u001b[0m in \u001b[0;36m<module>\u001b[1;34m\u001b[0m\n\u001b[0;32m      1\u001b[0m \u001b[1;31m#2020-01-01 ~ 2020-12-29 강수량 크롤링\u001b[0m\u001b[1;33m\u001b[0m\u001b[1;33m\u001b[0m\u001b[1;33m\u001b[0m\u001b[0m\n\u001b[1;32m----> 2\u001b[1;33m \u001b[0mselect_yy\u001b[0m\u001b[1;33m.\u001b[0m\u001b[0mselect_by_index\u001b[0m\u001b[1;33m(\u001b[0m\u001b[1;36m1\u001b[0m\u001b[1;33m)\u001b[0m\u001b[1;33m\u001b[0m\u001b[1;33m\u001b[0m\u001b[0m\n\u001b[0m\u001b[0;32m      3\u001b[0m \u001b[1;32mfor\u001b[0m \u001b[0mstn\u001b[0m \u001b[1;32min\u001b[0m \u001b[0mrange\u001b[0m\u001b[1;33m(\u001b[0m\u001b[0mstn_count\u001b[0m\u001b[1;33m)\u001b[0m\u001b[1;33m:\u001b[0m\u001b[1;33m\u001b[0m\u001b[1;33m\u001b[0m\u001b[0m\n\u001b[0;32m      4\u001b[0m     \u001b[0mselect_stn\u001b[0m\u001b[1;33m=\u001b[0m\u001b[0mSelect\u001b[0m\u001b[1;33m(\u001b[0m\u001b[0mdriver\u001b[0m\u001b[1;33m.\u001b[0m\u001b[0mfind_element_by_id\u001b[0m\u001b[1;33m(\u001b[0m\u001b[1;34m\"select-stn\"\u001b[0m\u001b[1;33m)\u001b[0m\u001b[1;33m)\u001b[0m\u001b[1;33m\u001b[0m\u001b[1;33m\u001b[0m\u001b[0m\n\u001b[0;32m      5\u001b[0m     \u001b[0mselect_stn\u001b[0m\u001b[1;33m.\u001b[0m\u001b[0mselect_by_index\u001b[0m\u001b[1;33m(\u001b[0m\u001b[0mstn\u001b[0m\u001b[1;33m)\u001b[0m\u001b[1;33m\u001b[0m\u001b[1;33m\u001b[0m\u001b[0m\n",
      "\u001b[1;32m~\\anaconda3\\lib\\site-packages\\selenium\\webdriver\\support\\select.py\u001b[0m in \u001b[0;36mselect_by_index\u001b[1;34m(self, index)\u001b[0m\n\u001b[0;32m     97\u001b[0m            \"\"\"\n\u001b[0;32m     98\u001b[0m         \u001b[0mmatch\u001b[0m \u001b[1;33m=\u001b[0m \u001b[0mstr\u001b[0m\u001b[1;33m(\u001b[0m\u001b[0mindex\u001b[0m\u001b[1;33m)\u001b[0m\u001b[1;33m\u001b[0m\u001b[1;33m\u001b[0m\u001b[0m\n\u001b[1;32m---> 99\u001b[1;33m         \u001b[1;32mfor\u001b[0m \u001b[0mopt\u001b[0m \u001b[1;32min\u001b[0m \u001b[0mself\u001b[0m\u001b[1;33m.\u001b[0m\u001b[0moptions\u001b[0m\u001b[1;33m:\u001b[0m\u001b[1;33m\u001b[0m\u001b[1;33m\u001b[0m\u001b[0m\n\u001b[0m\u001b[0;32m    100\u001b[0m             \u001b[1;32mif\u001b[0m \u001b[0mopt\u001b[0m\u001b[1;33m.\u001b[0m\u001b[0mget_attribute\u001b[0m\u001b[1;33m(\u001b[0m\u001b[1;34m\"index\"\u001b[0m\u001b[1;33m)\u001b[0m \u001b[1;33m==\u001b[0m \u001b[0mmatch\u001b[0m\u001b[1;33m:\u001b[0m\u001b[1;33m\u001b[0m\u001b[1;33m\u001b[0m\u001b[0m\n\u001b[0;32m    101\u001b[0m                 \u001b[0mself\u001b[0m\u001b[1;33m.\u001b[0m\u001b[0m_setSelected\u001b[0m\u001b[1;33m(\u001b[0m\u001b[0mopt\u001b[0m\u001b[1;33m)\u001b[0m\u001b[1;33m\u001b[0m\u001b[1;33m\u001b[0m\u001b[0m\n",
      "\u001b[1;32m~\\anaconda3\\lib\\site-packages\\selenium\\webdriver\\support\\select.py\u001b[0m in \u001b[0;36moptions\u001b[1;34m(self)\u001b[0m\n\u001b[0;32m     45\u001b[0m     \u001b[1;32mdef\u001b[0m \u001b[0moptions\u001b[0m\u001b[1;33m(\u001b[0m\u001b[0mself\u001b[0m\u001b[1;33m)\u001b[0m\u001b[1;33m:\u001b[0m\u001b[1;33m\u001b[0m\u001b[1;33m\u001b[0m\u001b[0m\n\u001b[0;32m     46\u001b[0m         \u001b[1;34m\"\"\"Returns a list of all options belonging to this select tag\"\"\"\u001b[0m\u001b[1;33m\u001b[0m\u001b[1;33m\u001b[0m\u001b[0m\n\u001b[1;32m---> 47\u001b[1;33m         \u001b[1;32mreturn\u001b[0m \u001b[0mself\u001b[0m\u001b[1;33m.\u001b[0m\u001b[0m_el\u001b[0m\u001b[1;33m.\u001b[0m\u001b[0mfind_elements\u001b[0m\u001b[1;33m(\u001b[0m\u001b[0mBy\u001b[0m\u001b[1;33m.\u001b[0m\u001b[0mTAG_NAME\u001b[0m\u001b[1;33m,\u001b[0m \u001b[1;34m'option'\u001b[0m\u001b[1;33m)\u001b[0m\u001b[1;33m\u001b[0m\u001b[1;33m\u001b[0m\u001b[0m\n\u001b[0m\u001b[0;32m     48\u001b[0m \u001b[1;33m\u001b[0m\u001b[0m\n\u001b[0;32m     49\u001b[0m     \u001b[1;33m@\u001b[0m\u001b[0mproperty\u001b[0m\u001b[1;33m\u001b[0m\u001b[1;33m\u001b[0m\u001b[0m\n",
      "\u001b[1;32m~\\anaconda3\\lib\\site-packages\\selenium\\webdriver\\remote\\webelement.py\u001b[0m in \u001b[0;36mfind_elements\u001b[1;34m(self, by, value)\u001b[0m\n\u001b[0;32m    682\u001b[0m                 \u001b[0mvalue\u001b[0m \u001b[1;33m=\u001b[0m \u001b[1;34m'[name=\"%s\"]'\u001b[0m \u001b[1;33m%\u001b[0m \u001b[0mvalue\u001b[0m\u001b[1;33m\u001b[0m\u001b[1;33m\u001b[0m\u001b[0m\n\u001b[0;32m    683\u001b[0m \u001b[1;33m\u001b[0m\u001b[0m\n\u001b[1;32m--> 684\u001b[1;33m         return self._execute(Command.FIND_CHILD_ELEMENTS,\n\u001b[0m\u001b[0;32m    685\u001b[0m                              {\"using\": by, \"value\": value})['value']\n\u001b[0;32m    686\u001b[0m \u001b[1;33m\u001b[0m\u001b[0m\n",
      "\u001b[1;32m~\\anaconda3\\lib\\site-packages\\selenium\\webdriver\\remote\\webelement.py\u001b[0m in \u001b[0;36m_execute\u001b[1;34m(self, command, params)\u001b[0m\n\u001b[0;32m    631\u001b[0m             \u001b[0mparams\u001b[0m \u001b[1;33m=\u001b[0m \u001b[1;33m{\u001b[0m\u001b[1;33m}\u001b[0m\u001b[1;33m\u001b[0m\u001b[1;33m\u001b[0m\u001b[0m\n\u001b[0;32m    632\u001b[0m         \u001b[0mparams\u001b[0m\u001b[1;33m[\u001b[0m\u001b[1;34m'id'\u001b[0m\u001b[1;33m]\u001b[0m \u001b[1;33m=\u001b[0m \u001b[0mself\u001b[0m\u001b[1;33m.\u001b[0m\u001b[0m_id\u001b[0m\u001b[1;33m\u001b[0m\u001b[1;33m\u001b[0m\u001b[0m\n\u001b[1;32m--> 633\u001b[1;33m         \u001b[1;32mreturn\u001b[0m \u001b[0mself\u001b[0m\u001b[1;33m.\u001b[0m\u001b[0m_parent\u001b[0m\u001b[1;33m.\u001b[0m\u001b[0mexecute\u001b[0m\u001b[1;33m(\u001b[0m\u001b[0mcommand\u001b[0m\u001b[1;33m,\u001b[0m \u001b[0mparams\u001b[0m\u001b[1;33m)\u001b[0m\u001b[1;33m\u001b[0m\u001b[1;33m\u001b[0m\u001b[0m\n\u001b[0m\u001b[0;32m    634\u001b[0m \u001b[1;33m\u001b[0m\u001b[0m\n\u001b[0;32m    635\u001b[0m     \u001b[1;32mdef\u001b[0m \u001b[0mfind_element\u001b[0m\u001b[1;33m(\u001b[0m\u001b[0mself\u001b[0m\u001b[1;33m,\u001b[0m \u001b[0mby\u001b[0m\u001b[1;33m=\u001b[0m\u001b[0mBy\u001b[0m\u001b[1;33m.\u001b[0m\u001b[0mID\u001b[0m\u001b[1;33m,\u001b[0m \u001b[0mvalue\u001b[0m\u001b[1;33m=\u001b[0m\u001b[1;32mNone\u001b[0m\u001b[1;33m)\u001b[0m\u001b[1;33m:\u001b[0m\u001b[1;33m\u001b[0m\u001b[1;33m\u001b[0m\u001b[0m\n",
      "\u001b[1;32m~\\anaconda3\\lib\\site-packages\\selenium\\webdriver\\remote\\webdriver.py\u001b[0m in \u001b[0;36mexecute\u001b[1;34m(self, driver_command, params)\u001b[0m\n\u001b[0;32m    319\u001b[0m         \u001b[0mresponse\u001b[0m \u001b[1;33m=\u001b[0m \u001b[0mself\u001b[0m\u001b[1;33m.\u001b[0m\u001b[0mcommand_executor\u001b[0m\u001b[1;33m.\u001b[0m\u001b[0mexecute\u001b[0m\u001b[1;33m(\u001b[0m\u001b[0mdriver_command\u001b[0m\u001b[1;33m,\u001b[0m \u001b[0mparams\u001b[0m\u001b[1;33m)\u001b[0m\u001b[1;33m\u001b[0m\u001b[1;33m\u001b[0m\u001b[0m\n\u001b[0;32m    320\u001b[0m         \u001b[1;32mif\u001b[0m \u001b[0mresponse\u001b[0m\u001b[1;33m:\u001b[0m\u001b[1;33m\u001b[0m\u001b[1;33m\u001b[0m\u001b[0m\n\u001b[1;32m--> 321\u001b[1;33m             \u001b[0mself\u001b[0m\u001b[1;33m.\u001b[0m\u001b[0merror_handler\u001b[0m\u001b[1;33m.\u001b[0m\u001b[0mcheck_response\u001b[0m\u001b[1;33m(\u001b[0m\u001b[0mresponse\u001b[0m\u001b[1;33m)\u001b[0m\u001b[1;33m\u001b[0m\u001b[1;33m\u001b[0m\u001b[0m\n\u001b[0m\u001b[0;32m    322\u001b[0m             response['value'] = self._unwrap_value(\n\u001b[0;32m    323\u001b[0m                 response.get('value', None))\n",
      "\u001b[1;32m~\\anaconda3\\lib\\site-packages\\selenium\\webdriver\\remote\\errorhandler.py\u001b[0m in \u001b[0;36mcheck_response\u001b[1;34m(self, response)\u001b[0m\n\u001b[0;32m    240\u001b[0m                 \u001b[0malert_text\u001b[0m \u001b[1;33m=\u001b[0m \u001b[0mvalue\u001b[0m\u001b[1;33m[\u001b[0m\u001b[1;34m'alert'\u001b[0m\u001b[1;33m]\u001b[0m\u001b[1;33m.\u001b[0m\u001b[0mget\u001b[0m\u001b[1;33m(\u001b[0m\u001b[1;34m'text'\u001b[0m\u001b[1;33m)\u001b[0m\u001b[1;33m\u001b[0m\u001b[1;33m\u001b[0m\u001b[0m\n\u001b[0;32m    241\u001b[0m             \u001b[1;32mraise\u001b[0m \u001b[0mexception_class\u001b[0m\u001b[1;33m(\u001b[0m\u001b[0mmessage\u001b[0m\u001b[1;33m,\u001b[0m \u001b[0mscreen\u001b[0m\u001b[1;33m,\u001b[0m \u001b[0mstacktrace\u001b[0m\u001b[1;33m,\u001b[0m \u001b[0malert_text\u001b[0m\u001b[1;33m)\u001b[0m\u001b[1;33m\u001b[0m\u001b[1;33m\u001b[0m\u001b[0m\n\u001b[1;32m--> 242\u001b[1;33m         \u001b[1;32mraise\u001b[0m \u001b[0mexception_class\u001b[0m\u001b[1;33m(\u001b[0m\u001b[0mmessage\u001b[0m\u001b[1;33m,\u001b[0m \u001b[0mscreen\u001b[0m\u001b[1;33m,\u001b[0m \u001b[0mstacktrace\u001b[0m\u001b[1;33m)\u001b[0m\u001b[1;33m\u001b[0m\u001b[1;33m\u001b[0m\u001b[0m\n\u001b[0m\u001b[0;32m    243\u001b[0m \u001b[1;33m\u001b[0m\u001b[0m\n\u001b[0;32m    244\u001b[0m     \u001b[1;32mdef\u001b[0m \u001b[0m_value_or_default\u001b[0m\u001b[1;33m(\u001b[0m\u001b[0mself\u001b[0m\u001b[1;33m,\u001b[0m \u001b[0mobj\u001b[0m\u001b[1;33m,\u001b[0m \u001b[0mkey\u001b[0m\u001b[1;33m,\u001b[0m \u001b[0mdefault\u001b[0m\u001b[1;33m)\u001b[0m\u001b[1;33m:\u001b[0m\u001b[1;33m\u001b[0m\u001b[1;33m\u001b[0m\u001b[0m\n",
      "\u001b[1;31mStaleElementReferenceException\u001b[0m: Message: stale element reference: element is not attached to the page document\n  (Session info: chrome=92.0.4515.131)\n"
     ]
    }
   ],
   "source": [
    "#2020-01-01 ~ 2020-12-29 강수량 크롤링\n",
    "select_yy.select_by_index(1)\n",
    "for stn in range(stn_count):\n",
    "    select_stn=Select(driver.find_element_by_id(\"select-stn\"))\n",
    "    select_stn.select_by_index(stn)\n",
    "    selectbtnClick()\n",
    "    table = driver.find_element_by_id('weather_table')\n",
    "    print(stn,table.text)\n",
    "    time.sleep(5)\n",
    "\n",
    "#2021-01-01 ~ 2020-7-31 강수량 크롤링"
   ]
  },
  {
   "cell_type": "code",
   "execution_count": null,
   "id": "ab31bfaf",
   "metadata": {},
   "outputs": [],
   "source": []
  }
 ],
 "metadata": {
  "kernelspec": {
   "display_name": "Python 3",
   "language": "python",
   "name": "python3"
  },
  "language_info": {
   "codemirror_mode": {
    "name": "ipython",
    "version": 3
   },
   "file_extension": ".py",
   "mimetype": "text/x-python",
   "name": "python",
   "nbconvert_exporter": "python",
   "pygments_lexer": "ipython3",
   "version": "3.8.8"
  }
 },
 "nbformat": 4,
 "nbformat_minor": 5
}
