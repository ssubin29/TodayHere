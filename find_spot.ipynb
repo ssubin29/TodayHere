{
 "cells": [
  {
   "cell_type": "code",
   "execution_count": 15,
   "metadata": {},
   "outputs": [
    {
     "name": "stdout",
     "output_type": "stream",
     "text": [
      "Requirement already satisfied: webdriver-manager in /Users/kimseungmi/opt/anaconda3/lib/python3.8/site-packages (3.4.2)\n",
      "Requirement already satisfied: crayons in /Users/kimseungmi/opt/anaconda3/lib/python3.8/site-packages (from webdriver-manager) (0.4.0)\n",
      "Requirement already satisfied: requests in /Users/kimseungmi/opt/anaconda3/lib/python3.8/site-packages (from webdriver-manager) (2.24.0)\n",
      "Requirement already satisfied: configparser in /Users/kimseungmi/opt/anaconda3/lib/python3.8/site-packages (from webdriver-manager) (5.0.2)\n",
      "Requirement already satisfied: colorama in /Users/kimseungmi/opt/anaconda3/lib/python3.8/site-packages (from crayons->webdriver-manager) (0.4.4)\n",
      "Requirement already satisfied: idna<3,>=2.5 in /Users/kimseungmi/opt/anaconda3/lib/python3.8/site-packages (from requests->webdriver-manager) (2.10)\n",
      "Requirement already satisfied: certifi>=2017.4.17 in /Users/kimseungmi/opt/anaconda3/lib/python3.8/site-packages (from requests->webdriver-manager) (2020.6.20)\n",
      "Requirement already satisfied: chardet<4,>=3.0.2 in /Users/kimseungmi/opt/anaconda3/lib/python3.8/site-packages (from requests->webdriver-manager) (3.0.4)\n",
      "Requirement already satisfied: urllib3!=1.25.0,!=1.25.1,<1.26,>=1.21.1 in /Users/kimseungmi/opt/anaconda3/lib/python3.8/site-packages (from requests->webdriver-manager) (1.25.11)\n",
      "Note: you may need to restart the kernel to use updated packages.\n"
     ]
    }
   ],
   "source": [
    "pip install webdriver-manager"
   ]
  },
  {
   "cell_type": "code",
   "execution_count": 2,
   "metadata": {
    "scrolled": true
   },
   "outputs": [
    {
     "name": "stdout",
     "output_type": "stream",
     "text": [
      "Collecting selenium\n",
      "  Downloading selenium-3.141.0-py2.py3-none-any.whl (904 kB)\n",
      "\u001b[K     |████████████████████████████████| 904 kB 2.4 MB/s eta 0:00:01\n",
      "\u001b[?25hRequirement already satisfied: urllib3 in /Users/kimseungmi/opt/anaconda3/lib/python3.8/site-packages (from selenium) (1.25.11)\n",
      "Installing collected packages: selenium\n",
      "Successfully installed selenium-3.141.0\n",
      "Note: you may need to restart the kernel to use updated packages.\n"
     ]
    }
   ],
   "source": [
    "pip install selenium"
   ]
  },
  {
   "cell_type": "code",
   "execution_count": 1,
   "metadata": {
    "scrolled": true
   },
   "outputs": [
    {
     "name": "stdout",
     "output_type": "stream",
     "text": [
      "익선동\n",
      "서울 종로구\n",
      "02-734-0222\n",
      "#21_22한국관광100선#가족과함께#관광지#남녀노소#뉴트로_감성여행\n",
      "청풍호반케이블카\n",
      "충북 제천시\n",
      "043-643-7301\n",
      "#21_22한국관광100선#가족과함께#경치여행#경치좋은곳#관광지#연인과함께\n",
      "익산 미륵사지 [유네스코 세계유산]\n",
      "전북 익산시\n",
      "063-859-3873\n",
      "#21_22한국관광100선#관광지#교과서속여행#아이와함께#역사#역사공부\n",
      "퍼플교\n",
      "전남 신안군\n",
      "061-240-8357\n",
      "#1004섬#21_22한국관광100선#관광지#박월도#박지도#신안관광#전라권\n",
      "흰여울문화마을\n",
      "부산 영도구\n",
      "051-419-4067\n",
      "#21_22한국관광100선#가족과함께#경상권#관광지#부산가볼만한곳\n",
      "광명동굴\n",
      "경기 광명시\n",
      "070-4277-8902\n",
      "#21_22한국관광100선#관광명소#관광지#광명가볼만한곳#교육여행\n",
      "울주 대곡리 반구대 암각화\n",
      "울산 울주군\n",
      "052-204-0322\n",
      "#2020비대면관광지_가을편#21_22한국관광100선#경상권#관광지#나홀로여행\n",
      "부산 송도해수욕장\n",
      "부산 서구\n",
      "051-231-0252\n",
      "#21_22한국관광100선#가족여행#경상권#관광지#바다여행#바다풍경\n",
      "창덕궁과 후원 [유네스코 세계문화유산]\n",
      "서울 종로구\n",
      "02-3668-2300\n",
      "#19_20한국관광100선#21_22한국관광100선#관광지#데이트코스#수도권\n",
      "인천 차이나타운\n",
      "인천 중구\n",
      "032-777-1330\n",
      "#19_20한국관광100선#21_22한국관광100선#가족과함께#관광지#당일치기여행\n"
     ]
    }
   ],
   "source": [
    "# 한국관광 크롤링\n",
    "\n",
    "from selenium import webdriver \n",
    "from selenium.webdriver.common.keys import Keys \n",
    "\n",
    "\n",
    "chromedriver = '/usr/local/Cellar/chromedriver/chromedriver'\n",
    "driver = webdriver.Chrome(chromedriver)\n",
    " \n",
    "driver.get('https://korean.visitkorea.or.kr/other/other_list.do?otdid=622bcd99-84fa-11e8-8165-020027310001&choiceTag=21_22한국관광100선&choiceTagId=623d1fa9-623b-4c19-adf6-e008c85bd4e3')\n",
    "\n",
    "spots=driver.find_elements_by_tag_name(\"#contents > div.wrap_contView.clfix > div.box_leftType1 > ul > li > div.area_txt\")\n",
    "\n",
    "for spot in spots:\n",
    "    print(spot.text)\n",
    "\n",
    "#assert \"한국관광\" in driver.title"
   ]
  },
  {
   "cell_type": "code",
   "execution_count": 14,
   "metadata": {},
   "outputs": [],
   "source": [
    "#네이버 데이터랩 크롤링 \n",
    "\n",
    "driver.get('https://www.naver.com/')\n",
    "assert \"No results found.\" not in driver.page_source\n",
    "\n",
    "elem=driver.find_element_by_name(\"query\")\n",
    "elem.clear()\n",
    "elem.send_keys(\"롯데월드\")\n",
    "elem.send_keys(Keys.RETURN)\n",
    "\n",
    "\n",
    "\n",
    "driver.quit()"
   ]
  },
  {
   "cell_type": "code",
   "execution_count": null,
   "metadata": {},
   "outputs": [],
   "source": []
  }
 ],
 "metadata": {
  "kernelspec": {
   "display_name": "Python 3",
   "language": "python",
   "name": "python3"
  },
  "language_info": {
   "codemirror_mode": {
    "name": "ipython",
    "version": 3
   },
   "file_extension": ".py",
   "mimetype": "text/x-python",
   "name": "python",
   "nbconvert_exporter": "python",
   "pygments_lexer": "ipython3",
   "version": "3.8.5"
  }
 },
 "nbformat": 4,
 "nbformat_minor": 4
}
