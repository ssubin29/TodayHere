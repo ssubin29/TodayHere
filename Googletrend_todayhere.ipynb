{
 "cells": [
  {
   "cell_type": "markdown",
   "id": "78d7da93",
   "metadata": {},
   "source": [
    "# 구글 트렌드 받아오기\n",
    "- 관광지를 입력받으면 2020-07-01 ~ 2021-07-31 까지의 추천도를 list 형식으로 반환"
   ]
  },
  {
   "cell_type": "code",
   "execution_count": 1,
   "id": "e28b0e23",
   "metadata": {},
   "outputs": [
    {
     "name": "stdout",
     "output_type": "stream",
     "text": [
      "Requirement already satisfied: pytrends in c:\\users\\user\\anaconda3\\lib\\site-packages (4.7.3)\n",
      "Requirement already satisfied: requests in c:\\users\\user\\anaconda3\\lib\\site-packages (from pytrends) (2.26.0)\n",
      "Requirement already satisfied: pandas>=0.25 in c:\\users\\user\\anaconda3\\lib\\site-packages (from pytrends) (1.2.4)\n",
      "Requirement already satisfied: lxml in c:\\users\\user\\anaconda3\\lib\\site-packages (from pytrends) (4.6.3)\n",
      "Requirement already satisfied: pytz>=2017.3 in c:\\users\\user\\anaconda3\\lib\\site-packages (from pandas>=0.25->pytrends) (2021.1)\n",
      "Requirement already satisfied: python-dateutil>=2.7.3 in c:\\users\\user\\anaconda3\\lib\\site-packages (from pandas>=0.25->pytrends) (2.8.1)\n",
      "Requirement already satisfied: numpy>=1.16.5 in c:\\users\\user\\anaconda3\\lib\\site-packages (from pandas>=0.25->pytrends) (1.20.0)\n",
      "Requirement already satisfied: six>=1.5 in c:\\users\\user\\anaconda3\\lib\\site-packages (from python-dateutil>=2.7.3->pandas>=0.25->pytrends) (1.15.0)\n",
      "Requirement already satisfied: idna<4,>=2.5 in c:\\users\\user\\anaconda3\\lib\\site-packages (from requests->pytrends) (2.6)\n",
      "Requirement already satisfied: certifi>=2017.4.17 in c:\\users\\user\\anaconda3\\lib\\site-packages (from requests->pytrends) (2020.12.5)\n",
      "Requirement already satisfied: charset-normalizer~=2.0.0 in c:\\users\\user\\anaconda3\\lib\\site-packages (from requests->pytrends) (2.0.3)\n",
      "Requirement already satisfied: urllib3<1.27,>=1.21.1 in c:\\users\\user\\anaconda3\\lib\\site-packages (from requests->pytrends) (1.26.6)\n"
     ]
    }
   ],
   "source": [
    "!pip install pytrends\n",
    "from pytrends.request import TrendReq\n",
    "import pandas as pd\n",
    "import csv"
   ]
  },
  {
   "cell_type": "code",
   "execution_count": 45,
   "id": "f12b93ce",
   "metadata": {},
   "outputs": [
    {
     "name": "stdout",
     "output_type": "stream",
     "text": [
      "            내장산\n",
      "date           \n",
      "2020-07-01    0\n",
      "2020-07-02   79\n",
      "2020-07-03    0\n",
      "2020-07-04    0\n",
      "2020-07-05   93\n",
      "2020-07-06    0\n",
      "2020-07-07    0\n",
      "2020-07-08    0\n",
      "2020-07-09    0\n",
      "2020-07-10    0\n",
      "2020-07-11    0\n",
      "2020-07-12    0\n",
      "2020-07-13    0\n",
      "2020-07-14    0\n",
      "2020-07-15   81\n",
      "2020-07-16    0\n",
      "2020-07-17    0\n",
      "2020-07-18    0\n",
      "2020-07-19    0\n",
      "2020-07-20    0\n",
      "2020-07-21    0\n",
      "2020-07-22    0\n",
      "2020-07-23    0\n",
      "2020-07-24    0\n",
      "2020-07-25  100\n",
      "2020-07-26    0\n",
      "2020-07-27   81\n",
      "2020-07-28    0\n",
      "2020-07-29    0\n",
      "2020-07-30   83\n",
      "2020-07-31    0\n"
     ]
    }
   ],
   "source": [
    "pytrends = TrendReq(hl='ko', tz = 540)\n",
    "\n",
    "keywords=['내장산']\n",
    "\n",
    "pytrends.build_payload(keywords, cat=0,timeframe='2020-07-01 2020-07-31', geo='KR', gprop='')\n",
    "\n",
    "getdatainfo = pytrends.interest_over_time()\n",
    "\n",
    "\n",
    "del getdatainfo['isPartial']\n",
    "print(getdatainfo)\n",
    "#getdatainfo.to_csv('write.csv',encoding='utf-8')"
   ]
  },
  {
   "cell_type": "code",
   "execution_count": 18,
   "id": "d12be0ff",
   "metadata": {},
   "outputs": [
    {
     "name": "stdout",
     "output_type": "stream",
     "text": [
      "<class 'pandas.core.frame.DataFrame'>\n"
     ]
    }
   ],
   "source": [
    "print(type(getdatainfo))"
   ]
  },
  {
   "cell_type": "code",
   "execution_count": 33,
   "id": "a1b02c67",
   "metadata": {},
   "outputs": [
    {
     "name": "stdout",
     "output_type": "stream",
     "text": [
      "[35, 68, 72, 64, 79, 34, 17, 51, 100, 36, 83, 58, 33, 51, 86, 0, 37, 43, 20, 17, 53, 35, 69, 73, 21, 82, 52, 86, 69, 71, 56]\n",
      "DatetimeIndex(['2020-07-01', '2020-07-02', '2020-07-03', '2020-07-04',\n",
      "               '2020-07-05', '2020-07-06', '2020-07-07', '2020-07-08',\n",
      "               '2020-07-09', '2020-07-10', '2020-07-11', '2020-07-12',\n",
      "               '2020-07-13', '2020-07-14', '2020-07-15', '2020-07-16',\n",
      "               '2020-07-17', '2020-07-18', '2020-07-19', '2020-07-20',\n",
      "               '2020-07-21', '2020-07-22', '2020-07-23', '2020-07-24',\n",
      "               '2020-07-25', '2020-07-26', '2020-07-27', '2020-07-28',\n",
      "               '2020-07-29', '2020-07-30', '2020-07-31'],\n",
      "              dtype='datetime64[ns]', name='date', freq=None)\n"
     ]
    }
   ],
   "source": [
    "print(getdatainfo['에버랜드'].tolist()) \n",
    "print(getdatainfo['에버랜드'].index) "
   ]
  },
  {
   "cell_type": "code",
   "execution_count": null,
   "id": "97e72482",
   "metadata": {},
   "outputs": [],
   "source": []
  }
 ],
 "metadata": {
  "kernelspec": {
   "display_name": "Python 3",
   "language": "python",
   "name": "python3"
  },
  "language_info": {
   "codemirror_mode": {
    "name": "ipython",
    "version": 3
   },
   "file_extension": ".py",
   "mimetype": "text/x-python",
   "name": "python",
   "nbconvert_exporter": "python",
   "pygments_lexer": "ipython3",
   "version": "3.8.8"
  }
 },
 "nbformat": 4,
 "nbformat_minor": 5
}
